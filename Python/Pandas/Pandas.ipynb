{
 "cells": [
  {
   "cell_type": "markdown",
   "id": "80a6a637",
   "metadata": {},
   "source": [
    "# Pandas"
   ]
  },
  {
   "cell_type": "markdown",
   "id": "89eed05a",
   "metadata": {},
   "source": [
    "## Series"
   ]
  },
  {
   "cell_type": "code",
   "execution_count": 2,
   "id": "7b5a3cf5",
   "metadata": {},
   "outputs": [],
   "source": [
    "import pandas as pd\n",
    "from pandas import Series, DataFrame\n",
    "import numpy as np\n",
    "import matplotlib.pyplot as plt\n",
    "\n",
    "np.random.seed(12345)\n",
    "plt.rc('figure', figsize=(10, 6))\n",
    "PREVIOUS_MAX_ROWS = pd.options.display.max_rows\n",
    "pd.options.display.max_rows = 20\n",
    "np.set_printoptions(precision=4, suppress=True)"
   ]
  },
  {
   "cell_type": "markdown",
   "id": "2b8517da",
   "metadata": {},
   "source": [
    "### 정의"
   ]
  },
  {
   "cell_type": "code",
   "execution_count": null,
   "id": "07491d73",
   "metadata": {},
   "outputs": [
    {
     "name": "stdout",
     "output_type": "stream",
     "text": [
      "False\n",
      "\n",
      "values coun\n",
      "-5    1\n",
      " 1    1\n",
      " 2    1\n",
      " 3    1\n",
      "Name: count, dtype: int64\n"
     ]
    },
    {
     "data": {
      "text/plain": [
       "b   -5\n",
       "a    1\n",
       "b    2\n",
       "c    3\n",
       "dtype: int64"
      ]
     },
     "execution_count": 24,
     "metadata": {},
     "output_type": "execute_result"
    }
   ],
   "source": [
    "# obj = pd.Series(range(3), index=['a', 'b', 'c'])\n",
    "obj = pd.Series([1, 2, -5, 3], index=['a', 'b', 'b', 'c'])\n",
    "print(obj.index.is_unique)  # 인덱스 값이 유일한지 테스트\n",
    "obj = obj.sort_index(ascending=False)\n",
    "obj = obj.sort_values()\n",
    "print(f\"\\nvalues count\\n{obj.value_counts()}\")\n",
    "dic = pd.Series({'Ohio': 35000, 'Texas': 71000, 'Oregon': 16000, 'Utah': 5000})\n",
    "obj"
   ]
  },
  {
   "cell_type": "markdown",
   "id": "7b0fa7ff",
   "metadata": {},
   "source": [
    "### 활용"
   ]
  },
  {
   "cell_type": "code",
   "execution_count": 163,
   "id": "01d13ae9",
   "metadata": {},
   "outputs": [
    {
     "name": "stdout",
     "output_type": "stream",
     "text": [
      "'a' in obj : True\n",
      "a     2\n",
      "b     4\n",
      "b   -10\n",
      "c     6\n",
      "dtype: int64\n",
      "a         True\n",
      "Texas    False\n",
      "c         True\n",
      "Utah     False\n",
      "dtype: bool\n"
     ]
    }
   ],
   "source": [
    "dic_to = pd.Series(dic, index=['a', 'Texas', 'c', 'Utah'])\n",
    "print(f\"'a' in obj : {'a' in obj}\")\n",
    "print(obj * 2)\n",
    "print(dic_to.isnull())"
   ]
  },
  {
   "cell_type": "markdown",
   "id": "63536557",
   "metadata": {},
   "source": [
    "### 영역"
   ]
  },
  {
   "cell_type": "code",
   "execution_count": 164,
   "id": "3cd6aefd",
   "metadata": {},
   "outputs": [
    {
     "name": "stdout",
     "output_type": "stream",
     "text": [
      "obj[['a','b']]\n",
      "a    1\n",
      "b    5\n",
      "b    5\n",
      "dtype: int64\n",
      "obj[0:2]\n",
      "a    1\n",
      "b    5\n",
      "dtype: int64\n",
      "obj['a':'b']\n",
      "a    1\n",
      "b    5\n",
      "b    5\n",
      "dtype: int64\n"
     ]
    }
   ],
   "source": [
    "# print(f\"obj['a']: {obj['a']}\")\n",
    "obj['b':'c'] = 5\n",
    "print(f\"obj[['a','b']]\\n{obj[['a','b']]}\")\n",
    "print(f\"obj[0:2]\\n{obj[0:2]}\")\n",
    "print(f\"obj['a':'b']\\n{obj['a':'b']}\")"
   ]
  },
  {
   "cell_type": "code",
   "execution_count": 165,
   "id": "f2c96569",
   "metadata": {},
   "outputs": [
    {
     "name": "stdout",
     "output_type": "stream",
     "text": [
      "Ohio           NaN\n",
      "Oregon         NaN\n",
      "Texas     142000.0\n",
      "Utah       10000.0\n",
      "a              NaN\n",
      "c              NaN\n",
      "dtype: float64\n",
      "0         NaN\n",
      "1         NaN\n",
      "2    142000.0\n",
      "3     10000.0\n",
      "4         NaN\n",
      "5         NaN\n",
      "6         NaN\n",
      "Name: population, dtype: float64\n"
     ]
    }
   ],
   "source": [
    "objt = dic_to + dic\n",
    "print(objt)\n",
    "objt.name = 'population'\n",
    "objt.index.name = 'state'\n",
    "objt.index = [0, 1, 2, 3, 4, 5]\n",
    "objt_fill = objt.reindex(range(7), method='ffill') # 이전 값 채우기\n",
    "print(objt_fill)"
   ]
  },
  {
   "cell_type": "markdown",
   "id": "642caee1",
   "metadata": {},
   "source": [
    "### Rank"
   ]
  },
  {
   "cell_type": "code",
   "execution_count": null,
   "id": "babaa92e",
   "metadata": {},
   "outputs": [],
   "source": [
    "objs = pd.Series([7, 5, 3, -2, 0, 4])\n",
    "objs.rank() #  "
   ]
  },
  {
   "cell_type": "markdown",
   "id": "6825781a",
   "metadata": {},
   "source": [
    "## DataFrame"
   ]
  },
  {
   "cell_type": "code",
   "execution_count": 175,
   "id": "d45bcd09",
   "metadata": {},
   "outputs": [
    {
     "name": "stdout",
     "output_type": "stream",
     "text": [
      "column_name   state  pop  dept  series  eastern\n",
      "index_name                                     \n",
      "one            Ohio  1.5   0.0     NaN     True\n",
      "two            Ohio  1.7   1.0     NaN     True\n",
      "three          Ohio  3.6   2.0    -1.5     True\n",
      "four         Nevada  2.4   3.0     3.0    False\n",
      "five         Nevada  2.9   4.0     NaN    False\n",
      "column_name   state  pop  dept  series  eastern\n",
      "index_name                                     \n",
      "five         Nevada  2.9   4.0     NaN    False\n",
      "six          Nevada  3.2   5.0     5.0    False\n",
      "column_name   state  pop  dept  series  eastern\n",
      "index_name                                     \n",
      "three          Ohio  3.6   2.0    -1.5     True\n",
      "five         Nevada  2.9   4.0     NaN    False\n",
      "index_name\n",
      "one      False\n",
      "two      False\n",
      "three     True\n",
      "four     False\n",
      "five     False\n",
      "six       True\n",
      "Name: pop, dtype: bool\n"
     ]
    },
    {
     "data": {
      "text/html": [
       "<div>\n",
       "<style scoped>\n",
       "    .dataframe tbody tr th:only-of-type {\n",
       "        vertical-align: middle;\n",
       "    }\n",
       "\n",
       "    .dataframe tbody tr th {\n",
       "        vertical-align: top;\n",
       "    }\n",
       "\n",
       "    .dataframe thead th {\n",
       "        text-align: right;\n",
       "    }\n",
       "</style>\n",
       "<table border=\"1\" class=\"dataframe\">\n",
       "  <thead>\n",
       "    <tr style=\"text-align: right;\">\n",
       "      <th>column_name</th>\n",
       "      <th>state</th>\n",
       "      <th>pop</th>\n",
       "      <th>dept</th>\n",
       "      <th>series</th>\n",
       "      <th>eastern</th>\n",
       "    </tr>\n",
       "    <tr>\n",
       "      <th>index_name</th>\n",
       "      <th></th>\n",
       "      <th></th>\n",
       "      <th></th>\n",
       "      <th></th>\n",
       "      <th></th>\n",
       "    </tr>\n",
       "  </thead>\n",
       "  <tbody>\n",
       "    <tr>\n",
       "      <th>three</th>\n",
       "      <td>Ohio</td>\n",
       "      <td>3.6</td>\n",
       "      <td>2.0</td>\n",
       "      <td>-1.5</td>\n",
       "      <td>True</td>\n",
       "    </tr>\n",
       "    <tr>\n",
       "      <th>six</th>\n",
       "      <td>Nevada</td>\n",
       "      <td>3.2</td>\n",
       "      <td>5.0</td>\n",
       "      <td>5.0</td>\n",
       "      <td>False</td>\n",
       "    </tr>\n",
       "  </tbody>\n",
       "</table>\n",
       "</div>"
      ],
      "text/plain": [
       "column_name   state  pop  dept  series  eastern\n",
       "index_name                                     \n",
       "three          Ohio  3.6   2.0    -1.5     True\n",
       "six          Nevada  3.2   5.0     5.0    False"
      ]
     },
     "execution_count": 175,
     "metadata": {},
     "output_type": "execute_result"
    }
   ],
   "source": [
    "data2 = {'Nevada': {2001: 2.4, 2002: 2.9},\n",
    "       'Ohio': {2000: 1.5, 2001: 1.7, 2002: 3.6}}\n",
    "data = {'state': ['Ohio', 'Ohio', 'Ohio', 'Nevada', 'Nevada', 'Nevada'],\n",
    "        'year': [2000, 2001, 2002, 2001, 2002, 2003],\n",
    "        'pop': [1.5, 1.7, 3.6, 2.4, 2.9, 3.2]}\n",
    "frame = pd.DataFrame(data\n",
    "    , columns=['year', 'state', 'pop']\n",
    "    , index=['one', 'two', 'three', 'four', 'five', 'six'])\n",
    "frame['dept'] = np.arange(6.)\n",
    "frame['series'] = pd.Series([-1.5, 3, 5], index=['three', 'four', 'six'])\n",
    "frame['eastern'] = frame.state == 'Ohio'\n",
    "del frame['year']\n",
    "\n",
    "frame.index.name = 'index_name'; frame.columns.name = 'column_name'\n",
    "\n",
    "print(frame.head())\n",
    "print(frame.tail(2))\n",
    "print(frame.loc[['three', 'five']])\n",
    "print(frame['pop'] > 3)\n",
    "frame[frame['pop'] > 3]"
   ]
  },
  {
   "cell_type": "markdown",
   "id": "098ab6fa",
   "metadata": {},
   "source": [
    "### 추가 제거"
   ]
  },
  {
   "cell_type": "code",
   "execution_count": null,
   "id": "a3076c93",
   "metadata": {},
   "outputs": [
    {
     "name": "stdout",
     "output_type": "stream",
     "text": [
      "array : [['Ohio' nan -1]\n",
      " ['Ohio' nan -1]\n",
      " ['Nevada' 3.0 -1]\n",
      " ['Nevada' 5.0 -1]]\n",
      "index array : Index(['one', 'two', 'four', 'six'], dtype='object', name='index_name')\n",
      "'state' in frame.columns:True\n",
      "frames.loc['one', 'two'] (index) \n",
      " column_name state  series  new\n",
      "index_name                    \n",
      "one          Ohio     NaN   -1\n",
      "two          Ohio     NaN   -1\n"
     ]
    },
    {
     "data": {
      "text/html": [
       "<div>\n",
       "<style scoped>\n",
       "    .dataframe tbody tr th:only-of-type {\n",
       "        vertical-align: middle;\n",
       "    }\n",
       "\n",
       "    .dataframe tbody tr th {\n",
       "        vertical-align: top;\n",
       "    }\n",
       "\n",
       "    .dataframe thead th {\n",
       "        text-align: right;\n",
       "    }\n",
       "</style>\n",
       "<table border=\"1\" class=\"dataframe\">\n",
       "  <thead>\n",
       "    <tr style=\"text-align: right;\">\n",
       "      <th>index_name</th>\n",
       "      <th>one</th>\n",
       "      <th>two</th>\n",
       "      <th>four</th>\n",
       "      <th>six</th>\n",
       "    </tr>\n",
       "    <tr>\n",
       "      <th>column_name</th>\n",
       "      <th></th>\n",
       "      <th></th>\n",
       "      <th></th>\n",
       "      <th></th>\n",
       "    </tr>\n",
       "  </thead>\n",
       "  <tbody>\n",
       "    <tr>\n",
       "      <th>state</th>\n",
       "      <td>Ohio</td>\n",
       "      <td>Ohio</td>\n",
       "      <td>Nevada</td>\n",
       "      <td>Nevada</td>\n",
       "    </tr>\n",
       "    <tr>\n",
       "      <th>series</th>\n",
       "      <td>NaN</td>\n",
       "      <td>NaN</td>\n",
       "      <td>3.0</td>\n",
       "      <td>5.0</td>\n",
       "    </tr>\n",
       "    <tr>\n",
       "      <th>new</th>\n",
       "      <td>-1</td>\n",
       "      <td>-1</td>\n",
       "      <td>-1</td>\n",
       "      <td>-1</td>\n",
       "    </tr>\n",
       "  </tbody>\n",
       "</table>\n",
       "</div>"
      ],
      "text/plain": [
       "index_name    one   two    four     six\n",
       "column_name                            \n",
       "state        Ohio  Ohio  Nevada  Nevada\n",
       "series        NaN   NaN     3.0     5.0\n",
       "new            -1    -1      -1      -1"
      ]
     },
     "execution_count": 150,
     "metadata": {},
     "output_type": "execute_result"
    }
   ],
   "source": [
    "frames = frame.reindex(columns=['state', 'pop', 'series', 'new'], fill_value=-1) # nan인 경우 채우기\n",
    "frames = frames.drop(['three', 'five'])\n",
    "# frames = framse.drop('a', inplace=True) # 원래 데이터에 영향을 주면서 삭제\n",
    "frames = frames.drop(['pop'], axis=1)\n",
    "print(f\"array : {frames.values}\")\n",
    "print(f\"index array : {frames.index}\")\n",
    "print(f\"'state' in frame.columns:{'state' in frames.columns}\")\n",
    "print(f\"frames.loc['one', 'two'] (index) \\n {frames.loc[['one', 'two']]}\")\n",
    "frames.T"
   ]
  },
  {
   "cell_type": "markdown",
   "id": "3a7831a0",
   "metadata": {},
   "source": [
    "### Location"
   ]
  },
  {
   "cell_type": "code",
   "execution_count": 25,
   "id": "06aa7563",
   "metadata": {},
   "outputs": [
    {
     "name": "stdout",
     "output_type": "stream",
     "text": [
      "   a    b  c\n",
      "0  0  0.0  0\n",
      "1  0  NaN  5\n",
      "2  6  7.0  8\n",
      "\n",
      "\n",
      "     b  c\n",
      "1  NaN  5\n",
      "2  7.0  8\n",
      "\n",
      "\n",
      "     b  c\n",
      "1  NaN  5\n",
      "2  7.0  8\n",
      "\n",
      "\n",
      "   a    b  c\n",
      "2  6  7.0  8\n"
     ]
    }
   ],
   "source": [
    "frame = pd.DataFrame(np.arange(9).reshape((3,3)), index=range(3), columns=list('abc'))\n",
    "frame = frame.sort_index(axis=0, ascending=False)\n",
    "frame = frame.sort_values(by=['c', 'b'])\n",
    "frame[frame < 5] = 0\n",
    "frame.loc[1, 'b'] = np.nan\n",
    "\n",
    "print(frame)\n",
    "print(\"\\n\")\n",
    "print(frame.loc[[1, 2], ['b', 'c']])\n",
    "print(\"\\n\")\n",
    "print(frame.iloc[[1, 2], [1, 2]])\n",
    "print(\"\\n\")\n",
    "print(frame.iloc[:, :3][frame.c > 5])"
   ]
  },
  {
   "cell_type": "markdown",
   "id": "3a0b7ce4",
   "metadata": {},
   "source": [
    "### Apply & Mapping"
   ]
  },
  {
   "cell_type": "code",
   "execution_count": 29,
   "id": "4433c944",
   "metadata": {},
   "outputs": [
    {
     "name": "stdout",
     "output_type": "stream",
     "text": [
      "a    6.0\n",
      "b    7.0\n",
      "c    8.0\n",
      "dtype: float64\n",
      "0    0.0\n",
      "1    5.0\n",
      "2    2.0\n",
      "dtype: float64\n",
      "      a     b     c\n",
      "0  0.00  0.00  0.00\n",
      "1  0.00  0.20  5.00\n",
      "2  6.00  7.00  8.00\n",
      "0    0.00\n",
      "1    5.00\n",
      "2    8.00\n",
      "Name: c, dtype: object\n"
     ]
    }
   ],
   "source": [
    "f = lambda x: x.max() - x.min()\n",
    "print(frame.apply(f))\n",
    "print(frame.apply(f, axis='columns'))\n",
    "ft = lambda x : '%.2f' % x\n",
    "frame = frame.fillna(0.2)\n",
    "print(frame.map(ft))\n",
    "print(frame['c'].map(ft))"
   ]
  },
  {
   "cell_type": "markdown",
   "id": "1dd5df9d",
   "metadata": {},
   "source": [
    "### 통계"
   ]
  },
  {
   "cell_type": "code",
   "execution_count": 21,
   "id": "f920be69",
   "metadata": {},
   "outputs": [
    {
     "name": "stdout",
     "output_type": "stream",
     "text": [
      "   a    b  c\n",
      "0  0  0.0  0\n",
      "1  0  NaN  5\n",
      "2  6  7.0  8\n",
      "\n",
      "Sum\n",
      "a     6.0\n",
      "b     7.0\n",
      "c    13.0\n",
      "dtype: float64\n",
      "\n",
      "Mean\n",
      "0    0.0\n",
      "1    2.5\n",
      "2    7.0\n",
      "dtype: float64\n",
      "\n",
      "최대 값 인덱스\n",
      "a    2\n",
      "b    2\n",
      "c    2\n",
      "dtype: int64\n",
      "종합 통계\n",
      "\n"
     ]
    },
    {
     "data": {
      "text/html": [
       "<div>\n",
       "<style scoped>\n",
       "    .dataframe tbody tr th:only-of-type {\n",
       "        vertical-align: middle;\n",
       "    }\n",
       "\n",
       "    .dataframe tbody tr th {\n",
       "        vertical-align: top;\n",
       "    }\n",
       "\n",
       "    .dataframe thead th {\n",
       "        text-align: right;\n",
       "    }\n",
       "</style>\n",
       "<table border=\"1\" class=\"dataframe\">\n",
       "  <thead>\n",
       "    <tr style=\"text-align: right;\">\n",
       "      <th></th>\n",
       "      <th>a</th>\n",
       "      <th>b</th>\n",
       "      <th>c</th>\n",
       "    </tr>\n",
       "  </thead>\n",
       "  <tbody>\n",
       "    <tr>\n",
       "      <th>count</th>\n",
       "      <td>3.000000</td>\n",
       "      <td>2.000000</td>\n",
       "      <td>3.000000</td>\n",
       "    </tr>\n",
       "    <tr>\n",
       "      <th>mean</th>\n",
       "      <td>2.000000</td>\n",
       "      <td>3.500000</td>\n",
       "      <td>4.333333</td>\n",
       "    </tr>\n",
       "    <tr>\n",
       "      <th>std</th>\n",
       "      <td>3.464102</td>\n",
       "      <td>4.949747</td>\n",
       "      <td>4.041452</td>\n",
       "    </tr>\n",
       "    <tr>\n",
       "      <th>min</th>\n",
       "      <td>0.000000</td>\n",
       "      <td>0.000000</td>\n",
       "      <td>0.000000</td>\n",
       "    </tr>\n",
       "    <tr>\n",
       "      <th>25%</th>\n",
       "      <td>0.000000</td>\n",
       "      <td>1.750000</td>\n",
       "      <td>2.500000</td>\n",
       "    </tr>\n",
       "    <tr>\n",
       "      <th>50%</th>\n",
       "      <td>0.000000</td>\n",
       "      <td>3.500000</td>\n",
       "      <td>5.000000</td>\n",
       "    </tr>\n",
       "    <tr>\n",
       "      <th>75%</th>\n",
       "      <td>3.000000</td>\n",
       "      <td>5.250000</td>\n",
       "      <td>6.500000</td>\n",
       "    </tr>\n",
       "    <tr>\n",
       "      <th>max</th>\n",
       "      <td>6.000000</td>\n",
       "      <td>7.000000</td>\n",
       "      <td>8.000000</td>\n",
       "    </tr>\n",
       "  </tbody>\n",
       "</table>\n",
       "</div>"
      ],
      "text/plain": [
       "              a         b         c\n",
       "count  3.000000  2.000000  3.000000\n",
       "mean   2.000000  3.500000  4.333333\n",
       "std    3.464102  4.949747  4.041452\n",
       "min    0.000000  0.000000  0.000000\n",
       "25%    0.000000  1.750000  2.500000\n",
       "50%    0.000000  3.500000  5.000000\n",
       "75%    3.000000  5.250000  6.500000\n",
       "max    6.000000  7.000000  8.000000"
      ]
     },
     "execution_count": 21,
     "metadata": {},
     "output_type": "execute_result"
    }
   ],
   "source": [
    "print(frame)\n",
    "print(f\"\\nSum\\n{frame.sum()}\")\n",
    "print(f\"\\nMean\\n{frame.mean(axis='columns')}\")\n",
    "print(f\"\\n최대 값 인덱스\\n{frame.idxmax()}\")\n",
    "#print(\"누적합 : cumsum()\")\n",
    "#print(f\"\\nrank\\n{frame.rank(axis='column', method='first')}\")\n",
    "print(\"종합 통계\\n\")\n",
    "frame.describe()"
   ]
  },
  {
   "cell_type": "code",
   "execution_count": null,
   "id": "77b2b4cc",
   "metadata": {},
   "outputs": [
    {
     "data": {
      "text/plain": [
       "0      4.5\n",
       "1      4.5\n",
       "2     10.5\n",
       "3     14.5\n",
       "4      4.5\n",
       "5      4.5\n",
       "6     10.5\n",
       "7     14.5\n",
       "8      4.5\n",
       "9      4.5\n",
       "10    10.5\n",
       "11    14.5\n",
       "12     4.5\n",
       "13     4.5\n",
       "14    10.5\n",
       "15    14.5\n",
       "dtype: float64"
      ]
     },
     "execution_count": 19,
     "metadata": {},
     "output_type": "execute_result"
    }
   ],
   "source": [
    "obj = pd.Series(['a', 'a', 'b', 'c'] * 4)\n",
    "print(obj.describe())\n",
    "print(obj.rank())"
   ]
  },
  {
   "cell_type": "markdown",
   "id": "059e458e",
   "metadata": {},
   "source": [
    "### 상관관계와 공분산"
   ]
  },
  {
   "cell_type": "code",
   "execution_count": 31,
   "id": "7ec479c3",
   "metadata": {},
   "outputs": [
    {
     "name": "stdout",
     "output_type": "stream",
     "text": [
      "Channels:\n",
      " - defaults\n",
      "Platform: linux-64\n",
      "Collecting package metadata (repodata.json): done\n",
      "Solving environment: done\n",
      "\n",
      "# All requested packages already installed.\n",
      "\n",
      "\n",
      "Note: you may need to restart the kernel to use updated packages.\n"
     ]
    }
   ],
   "source": [
    "%conda install pandas-datareader"
   ]
  },
  {
   "cell_type": "code",
   "execution_count": null,
   "id": "75986f53",
   "metadata": {},
   "outputs": [],
   "source": [
    "# corr, corrwith\n",
    "# convolutoin matrix\n",
    "# frame['a'].cov(frame[1]);"
   ]
  },
  {
   "cell_type": "markdown",
   "id": "d981c7e2",
   "metadata": {},
   "source": [
    "### Data Load\n",
    "\n",
    "- csv example\n",
    "```csv\n",
    "a,b,c,d,message\n",
    "1,2,3,4,hello\n",
    "5,6,7,8,world\n",
    "9,10,11,12,foo\n",
    "```\n",
    "\n",
    "- json example\n",
    "```json\n",
    "[{\"a\": 1, \"b\": 2, \"c\": 3},\n",
    " {\"a\": 4, \"b\": 5, \"c\": 6},\n",
    " {\"a\": 7, \"b\": 8, \"c\": 9}]\n",
    "```"
   ]
  },
  {
   "cell_type": "code",
   "execution_count": null,
   "id": "5f88e6bf",
   "metadata": {},
   "outputs": [],
   "source": [
    "# pickel load\n",
    "price = pd.read_pickle('examples/yahoo_price.pkl')\n",
    "volume = pd.read_pickle('examples/yahoo_volume.pkl')\n",
    "\n",
    "# csv load\n",
    "df = pd.read_csv('examples/ex1.csv')\n",
    "pd.read_csv('examples/ex2.csv'\n",
    "    , header=None\n",
    "    , names=['a', 'b', 'c', 'd', 'message']\n",
    "    , index_col=['parent_column', 'child_column']\n",
    "    , skiprows=[0, 2, 3]\n",
    "    , na_values=['NULL']\n",
    "    , nrows=5 # 조금씩 가져오기 , chunksize=1000 청크 사이즈로도 가능\n",
    "    )\n",
    "\n",
    "# txt load\n",
    "pd.read_table('examples/ex1.csv', sep=',')\n",
    "result = pd.read_table('examples/ex3.txt', sep='\\s+') # 공백 구분으로 텍스트 파일을 읽는다. '\\s+'는 하나 이상의 공백을 표현하는 '정규 표현식' 이다.\n",
    "\n",
    "# json load\n",
    "import json\n",
    "result = json.loads(obj) #dict 타입\n",
    "data = pd.read_json('examples/example.json')\n",
    "\n",
    "# html load\n",
    "tables = pd.read_html('examples/fdic_failed_bank_list.html')\n",
    "\n",
    "# excel load\n",
    "xlsx = pd.ExcelFile('examples/ex1.xlsx')\n",
    "pd.read_excel(xlsx, 'Sheet1')\n",
    "frame = pd.read_excel('examples/ex1.xlsx', 'Sheet1')"
   ]
  },
  {
   "cell_type": "markdown",
   "id": "e456e0f1",
   "metadata": {},
   "source": [
    "### Data Save"
   ]
  },
  {
   "cell_type": "code",
   "execution_count": null,
   "id": "e39c3be4",
   "metadata": {},
   "outputs": [],
   "source": [
    "# to csv\n",
    "data.to_csv('examples/out.csv')\n",
    "data.to_csv(sys.stdout, sep='|'   # sys.stdout 대신에 파일이름을 적어도 됨.\n",
    "                      , na_rep='NULL'\n",
    "                      , index=False, header=False\n",
    "                      , columns=['a', 'b', 'c'])\n",
    "\n",
    "# to pickle\n",
    "frame.to_pickle('examples/frame_pickle')"
   ]
  },
  {
   "cell_type": "markdown",
   "id": "24602142",
   "metadata": {},
   "source": [
    "### API, DB에서 불러오기는 생략 (6번 문서 볼 것)"
   ]
  },
  {
   "cell_type": "markdown",
   "id": "94a70595",
   "metadata": {},
   "source": [
    "### Na"
   ]
  },
  {
   "cell_type": "code",
   "execution_count": null,
   "id": "8b4d1ec1",
   "metadata": {},
   "outputs": [],
   "source": [
    "from numpy import nan as NA  # nan 을 NA로 활용하기 위하여 import\n",
    "data = pd.Series([1, NA, 3.5, NA, 7])\n",
    "dropped = data.dropna()\n",
    "data[data.notnull()]\n",
    "\n",
    "data = pd.DataFrame([[1., 6.5, 3.], [1., NA, NA],\n",
    "                     [NA, NA, NA], [NA, 6.5, 3.]])\n",
    "cleaned = data.dropna()\n",
    "all_null_drop = data.dropna(axis=1, how='all')\n",
    "df.dropna(thresh=2) # 1개 이하인 경우에는 제외x\n",
    "\n",
    "# NA 채우기\n",
    "df.fillna(0)\n",
    "df.fillna(method='ffill', limit=2) # 개수 제한\n",
    "df.fillna(0, inplace=True) # 원본데이터 변경\n",
    "df.fillna({1: 0.5, 2: 0}) # column 별로 채우기\n",
    "data.fillna(data.mean()) # 평균 값 대체\n",
    "df.ffill() # 이전 데이터로 채우기\n"
   ]
  }
 ],
 "metadata": {
  "kernelspec": {
   "display_name": "base",
   "language": "python",
   "name": "python3"
  },
  "language_info": {
   "codemirror_mode": {
    "name": "ipython",
    "version": 3
   },
   "file_extension": ".py",
   "mimetype": "text/x-python",
   "name": "python",
   "nbconvert_exporter": "python",
   "pygments_lexer": "ipython3",
   "version": "3.11.11"
  }
 },
 "nbformat": 4,
 "nbformat_minor": 5
}
