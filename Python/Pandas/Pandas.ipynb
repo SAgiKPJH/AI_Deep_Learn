{
 "cells": [
  {
   "cell_type": "markdown",
   "id": "80a6a637",
   "metadata": {},
   "source": [
    "# Pandas"
   ]
  },
  {
   "cell_type": "markdown",
   "id": "89eed05a",
   "metadata": {},
   "source": [
    "## Series"
   ]
  },
  {
   "cell_type": "code",
   "execution_count": 2,
   "id": "7b5a3cf5",
   "metadata": {},
   "outputs": [],
   "source": [
    "import pandas as pd\n",
    "from pandas import Series, DataFrame\n",
    "import numpy as np\n",
    "import matplotlib.pyplot as plt\n",
    "\n",
    "np.random.seed(12345)\n",
    "plt.rc('figure', figsize=(10, 6))\n",
    "PREVIOUS_MAX_ROWS = pd.options.display.max_rows\n",
    "pd.options.display.max_rows = 20\n",
    "np.set_printoptions(precision=4, suppress=True)"
   ]
  },
  {
   "cell_type": "code",
   "execution_count": null,
   "id": "07491d73",
   "metadata": {},
   "outputs": [],
   "source": [
    "# obj = pd.Series(range(3), index=['a', 'b', 'c'])\n",
    "obj = pd.Series([1, 2, -5, 3], index=['a', 'b', 'b', 'c'])\n",
    "dic = pd.Series({'Ohio': 35000, 'Texas': 71000, 'Oregon': 16000, 'Utah': 5000})"
   ]
  },
  {
   "cell_type": "code",
   "execution_count": 21,
   "id": "01d13ae9",
   "metadata": {},
   "outputs": [
    {
     "name": "stdout",
     "output_type": "stream",
     "text": [
      "'a' in obj : True\n",
      "a     2\n",
      "b     4\n",
      "b   -10\n",
      "c     6\n",
      "dtype: int64\n",
      "a         True\n",
      "Texas    False\n",
      "c         True\n",
      "Utah     False\n",
      "dtype: bool\n"
     ]
    }
   ],
   "source": [
    "dic_to = pd.Series(dic, index=['a', 'Texas', 'c', 'Utah'])\n",
    "print(f\"'a' in obj : {'a' in obj}\")\n",
    "print(obj * 2)\n",
    "print(dic_to.isnull())"
   ]
  },
  {
   "cell_type": "code",
   "execution_count": 23,
   "id": "f2c96569",
   "metadata": {},
   "outputs": [
    {
     "name": "stdout",
     "output_type": "stream",
     "text": [
      "0         NaN\n",
      "1         NaN\n",
      "2    142000.0\n",
      "3     10000.0\n",
      "4         NaN\n",
      "5         NaN\n",
      "Name: population, dtype: float64\n"
     ]
    }
   ],
   "source": [
    "objt = dic_to + dic\n",
    "objt.name = 'population'\n",
    "objt.index.name = 'state'\n",
    "objt.index = [0, 1, 2, 3, 4, 5]\n",
    "print(objt)"
   ]
  },
  {
   "cell_type": "markdown",
   "id": "6825781a",
   "metadata": {},
   "source": [
    "## DataFrame"
   ]
  },
  {
   "cell_type": "code",
   "execution_count": 51,
   "id": "d45bcd09",
   "metadata": {},
   "outputs": [
    {
     "data": {
      "text/html": [
       "<div>\n",
       "<style scoped>\n",
       "    .dataframe tbody tr th:only-of-type {\n",
       "        vertical-align: middle;\n",
       "    }\n",
       "\n",
       "    .dataframe tbody tr th {\n",
       "        vertical-align: top;\n",
       "    }\n",
       "\n",
       "    .dataframe thead th {\n",
       "        text-align: right;\n",
       "    }\n",
       "</style>\n",
       "<table border=\"1\" class=\"dataframe\">\n",
       "  <thead>\n",
       "    <tr style=\"text-align: right;\">\n",
       "      <th>column_name</th>\n",
       "      <th>state</th>\n",
       "      <th>pop</th>\n",
       "      <th>dept</th>\n",
       "      <th>series</th>\n",
       "      <th>eastern</th>\n",
       "    </tr>\n",
       "    <tr>\n",
       "      <th>index_name</th>\n",
       "      <th></th>\n",
       "      <th></th>\n",
       "      <th></th>\n",
       "      <th></th>\n",
       "      <th></th>\n",
       "    </tr>\n",
       "  </thead>\n",
       "  <tbody>\n",
       "    <tr>\n",
       "      <th>three</th>\n",
       "      <td>Ohio</td>\n",
       "      <td>3.6</td>\n",
       "      <td>2.0</td>\n",
       "      <td>-1.5</td>\n",
       "      <td>True</td>\n",
       "    </tr>\n",
       "    <tr>\n",
       "      <th>five</th>\n",
       "      <td>Nevada</td>\n",
       "      <td>2.9</td>\n",
       "      <td>4.0</td>\n",
       "      <td>NaN</td>\n",
       "      <td>False</td>\n",
       "    </tr>\n",
       "  </tbody>\n",
       "</table>\n",
       "</div>"
      ],
      "text/plain": [
       "column_name   state  pop  dept  series  eastern\n",
       "index_name                                     \n",
       "three          Ohio  3.6   2.0    -1.5     True\n",
       "five         Nevada  2.9   4.0     NaN    False"
      ]
     },
     "execution_count": 51,
     "metadata": {},
     "output_type": "execute_result"
    }
   ],
   "source": [
    "data2 = {'Nevada': {2001: 2.4, 2002: 2.9},\n",
    "       'Ohio': {2000: 1.5, 2001: 1.7, 2002: 3.6}}\n",
    "data = {'state': ['Ohio', 'Ohio', 'Ohio', 'Nevada', 'Nevada', 'Nevada'],\n",
    "        'year': [2000, 2001, 2002, 2001, 2002, 2003],\n",
    "        'pop': [1.5, 1.7, 3.6, 2.4, 2.9, 3.2]}\n",
    "frame = pd.DataFrame(data\n",
    "    , columns=['year', 'state', 'pop']\n",
    "    , index=['one', 'two', 'three', 'four', 'five', 'six'])\n",
    "frame['dept'] = np.arange(6.)\n",
    "frame['series'] = pd.Series([-1.5, 3, 5], index=['three', 'four', 'six'])\n",
    "frame['eastern'] = frame.state == 'Ohio'\n",
    "del frame['year']\n",
    "\n",
    "frame.index.name = 'index_name'; frame.columns.name = 'column_name'\n",
    "\n",
    "frame.head()\n",
    "frame.tail(2)\n",
    "frame.loc[['three', 'five']]"
   ]
  },
  {
   "cell_type": "code",
   "execution_count": null,
   "id": "a3076c93",
   "metadata": {},
   "outputs": [
    {
     "name": "stdout",
     "output_type": "stream",
     "text": [
      "array : [['Ohio' 1.5 0.0 nan True]\n",
      " ['Ohio' 1.7 1.0 nan True]\n",
      " ['Ohio' 3.6 2.0 -1.5 True]\n",
      " ['Nevada' 2.4 3.0 3.0 False]\n",
      " ['Nevada' 2.9 4.0 nan False]\n",
      " ['Nevada' 3.2 5.0 5.0 False]]\n",
      "index array : Index(['one', 'two', 'three', 'four', 'five', 'six'], dtype='object', name='index_name')\n",
      "'state' in frame.colums:True\n"
     ]
    },
    {
     "data": {
      "text/html": [
       "<div>\n",
       "<style scoped>\n",
       "    .dataframe tbody tr th:only-of-type {\n",
       "        vertical-align: middle;\n",
       "    }\n",
       "\n",
       "    .dataframe tbody tr th {\n",
       "        vertical-align: top;\n",
       "    }\n",
       "\n",
       "    .dataframe thead th {\n",
       "        text-align: right;\n",
       "    }\n",
       "</style>\n",
       "<table border=\"1\" class=\"dataframe\">\n",
       "  <thead>\n",
       "    <tr style=\"text-align: right;\">\n",
       "      <th>index_name</th>\n",
       "      <th>one</th>\n",
       "      <th>two</th>\n",
       "      <th>three</th>\n",
       "      <th>four</th>\n",
       "      <th>five</th>\n",
       "      <th>six</th>\n",
       "    </tr>\n",
       "    <tr>\n",
       "      <th>column_name</th>\n",
       "      <th></th>\n",
       "      <th></th>\n",
       "      <th></th>\n",
       "      <th></th>\n",
       "      <th></th>\n",
       "      <th></th>\n",
       "    </tr>\n",
       "  </thead>\n",
       "  <tbody>\n",
       "    <tr>\n",
       "      <th>state</th>\n",
       "      <td>Ohio</td>\n",
       "      <td>Ohio</td>\n",
       "      <td>Ohio</td>\n",
       "      <td>Nevada</td>\n",
       "      <td>Nevada</td>\n",
       "      <td>Nevada</td>\n",
       "    </tr>\n",
       "    <tr>\n",
       "      <th>pop</th>\n",
       "      <td>1.5</td>\n",
       "      <td>1.7</td>\n",
       "      <td>3.6</td>\n",
       "      <td>2.4</td>\n",
       "      <td>2.9</td>\n",
       "      <td>3.2</td>\n",
       "    </tr>\n",
       "    <tr>\n",
       "      <th>dept</th>\n",
       "      <td>0.0</td>\n",
       "      <td>1.0</td>\n",
       "      <td>2.0</td>\n",
       "      <td>3.0</td>\n",
       "      <td>4.0</td>\n",
       "      <td>5.0</td>\n",
       "    </tr>\n",
       "    <tr>\n",
       "      <th>series</th>\n",
       "      <td>NaN</td>\n",
       "      <td>NaN</td>\n",
       "      <td>-1.5</td>\n",
       "      <td>3.0</td>\n",
       "      <td>NaN</td>\n",
       "      <td>5.0</td>\n",
       "    </tr>\n",
       "    <tr>\n",
       "      <th>eastern</th>\n",
       "      <td>True</td>\n",
       "      <td>True</td>\n",
       "      <td>True</td>\n",
       "      <td>False</td>\n",
       "      <td>False</td>\n",
       "      <td>False</td>\n",
       "    </tr>\n",
       "  </tbody>\n",
       "</table>\n",
       "</div>"
      ],
      "text/plain": [
       "index_name    one   two three    four    five     six\n",
       "column_name                                          \n",
       "state        Ohio  Ohio  Ohio  Nevada  Nevada  Nevada\n",
       "pop           1.5   1.7   3.6     2.4     2.9     3.2\n",
       "dept          0.0   1.0   2.0     3.0     4.0     5.0\n",
       "series        NaN   NaN  -1.5     3.0     NaN     5.0\n",
       "eastern      True  True  True   False   False   False"
      ]
     },
     "execution_count": 66,
     "metadata": {},
     "output_type": "execute_result"
    }
   ],
   "source": [
    "print(f\"array : {frame.values}\")\n",
    "print(f\"index array : {frame.index}\")\n",
    "print(f\"'state' in frame.columns:{'state' in frame.columns}\")\n",
    "frame.T"
   ]
  },
  {
   "cell_type": "code",
   "execution_count": null,
   "id": "06aa7563",
   "metadata": {},
   "outputs": [],
   "source": []
  }
 ],
 "metadata": {
  "kernelspec": {
   "display_name": "base",
   "language": "python",
   "name": "python3"
  },
  "language_info": {
   "codemirror_mode": {
    "name": "ipython",
    "version": 3
   },
   "file_extension": ".py",
   "mimetype": "text/x-python",
   "name": "python",
   "nbconvert_exporter": "python",
   "pygments_lexer": "ipython3",
   "version": "3.11.11"
  }
 },
 "nbformat": 4,
 "nbformat_minor": 5
}
