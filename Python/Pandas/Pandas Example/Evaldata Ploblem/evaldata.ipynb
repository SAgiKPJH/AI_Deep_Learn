{
 "cells": [
  {
   "cell_type": "markdown",
   "id": "5784f26c",
   "metadata": {},
   "source": [
    "# 목적\n",
    "- evaldata.csv : 학생들의 project(작품)들을 여러 평가자가 3가지 평가항목(score1, scroe2, score2)에 대하여, 5점 척도로 평가한 데이터\n",
    "- 표준정규화와 min-max 정규화를 시행하여, 각 정규화 방법 별로 우수한 작품 5개를 선발하시오\n",
    "- 제한 : pandas 라이브러리를 사용하고, for 또는 while loop 명령과  iloc, loc 등의 pandas 함수 사용 금지\n",
    "\n",
    "### 분석\n",
    "- 평가자별로 정규화 진행 후 데이터 종합합니다."
   ]
  },
  {
   "cell_type": "code",
   "execution_count": 170,
   "id": "23f2a0ca",
   "metadata": {},
   "outputs": [],
   "source": [
    "import pandas as pd\n",
    "import numpy as np\n",
    "import matplotlib.pyplot as plt"
   ]
  },
  {
   "cell_type": "markdown",
   "id": "d94e7a23",
   "metadata": {},
   "source": [
    "### 데이터 로드"
   ]
  },
  {
   "cell_type": "code",
   "execution_count": 173,
   "id": "9f1c2672",
   "metadata": {},
   "outputs": [
    {
     "data": {
      "text/html": [
       "<div>\n",
       "<style scoped>\n",
       "    .dataframe tbody tr th:only-of-type {\n",
       "        vertical-align: middle;\n",
       "    }\n",
       "\n",
       "    .dataframe tbody tr th {\n",
       "        vertical-align: top;\n",
       "    }\n",
       "\n",
       "    .dataframe thead th {\n",
       "        text-align: right;\n",
       "    }\n",
       "</style>\n",
       "<table border=\"1\" class=\"dataframe\">\n",
       "  <thead>\n",
       "    <tr style=\"text-align: right;\">\n",
       "      <th></th>\n",
       "      <th>index</th>\n",
       "      <th>evaluator</th>\n",
       "      <th>project</th>\n",
       "      <th>score1</th>\n",
       "      <th>score2</th>\n",
       "      <th>score3</th>\n",
       "    </tr>\n",
       "  </thead>\n",
       "  <tbody>\n",
       "    <tr>\n",
       "      <th>0</th>\n",
       "      <td>0</td>\n",
       "      <td>A</td>\n",
       "      <td>126</td>\n",
       "      <td>4</td>\n",
       "      <td>3</td>\n",
       "      <td>2</td>\n",
       "    </tr>\n",
       "    <tr>\n",
       "      <th>1</th>\n",
       "      <td>1</td>\n",
       "      <td>A</td>\n",
       "      <td>127</td>\n",
       "      <td>3</td>\n",
       "      <td>3</td>\n",
       "      <td>3</td>\n",
       "    </tr>\n",
       "    <tr>\n",
       "      <th>2</th>\n",
       "      <td>2</td>\n",
       "      <td>A</td>\n",
       "      <td>128</td>\n",
       "      <td>3</td>\n",
       "      <td>2</td>\n",
       "      <td>2</td>\n",
       "    </tr>\n",
       "    <tr>\n",
       "      <th>3</th>\n",
       "      <td>3</td>\n",
       "      <td>A</td>\n",
       "      <td>129</td>\n",
       "      <td>4</td>\n",
       "      <td>3</td>\n",
       "      <td>3</td>\n",
       "    </tr>\n",
       "    <tr>\n",
       "      <th>4</th>\n",
       "      <td>4</td>\n",
       "      <td>A</td>\n",
       "      <td>130</td>\n",
       "      <td>4</td>\n",
       "      <td>3</td>\n",
       "      <td>3</td>\n",
       "    </tr>\n",
       "  </tbody>\n",
       "</table>\n",
       "</div>"
      ],
      "text/plain": [
       "   index evaluator  project  score1  score2  score3\n",
       "0      0         A      126       4       3       2\n",
       "1      1         A      127       3       3       3\n",
       "2      2         A      128       3       2       2\n",
       "3      3         A      129       4       3       3\n",
       "4      4         A      130       4       3       3"
      ]
     },
     "execution_count": 173,
     "metadata": {},
     "output_type": "execute_result"
    }
   ],
   "source": [
    "evaldata = pd.read_csv('evaldata.csv')\n",
    "evaldata.head()"
   ]
  },
  {
   "cell_type": "markdown",
   "id": "0356c2ec",
   "metadata": {},
   "source": [
    "### 평가자별로 분리"
   ]
  },
  {
   "cell_type": "code",
   "execution_count": 116,
   "id": "efd1ca13",
   "metadata": {},
   "outputs": [
    {
     "data": {
      "text/plain": [
       "evaluator\n",
       "A    1.224745\n",
       "B    1.069045\n",
       "C    1.164965\n",
       "D    2.697736\n",
       "E    1.500000\n",
       "F    1.302470\n",
       "G    1.322876\n",
       "H    1.802776\n",
       "I    1.488048\n",
       "J    1.187735\n",
       "K    2.507133\n",
       "L    1.166667\n",
       "M    1.000000\n",
       "N    1.195229\n",
       "O    2.121320\n",
       "X         NaN\n",
       "Name: score_sum, dtype: float64"
      ]
     },
     "execution_count": 116,
     "metadata": {},
     "output_type": "execute_result"
    }
   ],
   "source": [
    "groupped_evaluator = evaldata.groupby(evaldata['evaluator'])\n",
    "\n",
    "groupped_evaluator['score_sum'].min()\n",
    "groupped_evaluator['score_sum'].max()\n",
    "groupped_evaluator['score_sum'].mean()['A']\n",
    "groupped_evaluator['score_sum'].std()"
   ]
  },
  {
   "attachments": {
    "image.png": {
     "image/png": "[encoded data removed]"
    }
   },
   "cell_type": "markdown",
   "id": "28f2ae81",
   "metadata": {},
   "source": [
    "### Min-Max 정규화\n",
    "![image.png](attachment:image.png)"
   ]
  },
  {
   "cell_type": "code",
   "execution_count": 113,
   "id": "366b7fa6",
   "metadata": {},
   "outputs": [
    {
     "data": {
      "text/plain": [
       "array([ 7, 12])"
      ]
     },
     "execution_count": 113,
     "metadata": {},
     "output_type": "execute_result"
    }
   ],
   "source": [
    "groupped_evaluator['score_sum'].min()[['A', 'B']].values"
   ]
  },
  {
   "cell_type": "code",
   "execution_count": 114,
   "id": "9c62fd1d",
   "metadata": {},
   "outputs": [
    {
     "data": {
      "text/plain": [
       "0      2\n",
       "1      2\n",
       "2      0\n",
       "3      3\n",
       "4      3\n",
       "      ..\n",
       "124    5\n",
       "125    2\n",
       "126    0\n",
       "127    0\n",
       "128    5\n",
       "Name: score_sum, Length: 129, dtype: int64"
      ]
     },
     "execution_count": 114,
     "metadata": {},
     "output_type": "execute_result"
    }
   ],
   "source": [
    "evaldata['score_sum'] - groupped_evaluator['score_sum'].min()[evaldata['evaluator']].values"
   ]
  },
  {
   "cell_type": "code",
   "execution_count": 179,
   "id": "bbb8bf19",
   "metadata": {},
   "outputs": [
    {
     "data": {
      "text/plain": [
       "0      1.0\n",
       "1      0.5\n",
       "2      0.5\n",
       "3      1.0\n",
       "4      1.0\n",
       "      ... \n",
       "124    1.0\n",
       "125    0.5\n",
       "126    0.0\n",
       "127    0.0\n",
       "128    1.0\n",
       "Name: score1, Length: 129, dtype: float64"
      ]
     },
     "execution_count": 179,
     "metadata": {},
     "output_type": "execute_result"
    }
   ],
   "source": [
    "def min_max_evaluator(df, get_value, evaluator):\n",
    "    group = df.groupby(df[evaluator])\n",
    "    min = group[get_value].min()\n",
    "    max = group[get_value].max()\n",
    "    return (df[get_value] - min[df[evaluator]].values)/(max[df[evaluator]].values - min[df[evaluator]].values)\n",
    "groupped_evaluator_min_max = min_max_evaluator(evaldata, 'score1', 'evaluator')\n",
    "groupped_evaluator_min_max"
   ]
  },
  {
   "attachments": {
    "image.png": {
     "image/png": "[encoded data removed]"
    }
   },
   "cell_type": "markdown",
   "id": "7d579717",
   "metadata": {},
   "source": [
    "### 표준 정규화\n",
    "![image.png](attachment:image.png)"
   ]
  },
  {
   "cell_type": "code",
   "execution_count": 180,
   "id": "d1293a0b",
   "metadata": {},
   "outputs": [
    {
     "data": {
      "text/plain": [
       "0      1.137070\n",
       "1     -0.142134\n",
       "2     -0.142134\n",
       "3      1.137070\n",
       "4      1.137070\n",
       "         ...   \n",
       "124    1.421338\n",
       "125    0.142134\n",
       "126   -1.137070\n",
       "127   -1.137070\n",
       "128    1.421338\n",
       "Name: score1, Length: 129, dtype: float64"
      ]
     },
     "execution_count": 180,
     "metadata": {},
     "output_type": "execute_result"
    }
   ],
   "source": [
    "def standardization_evaluator(df, get_value, evaluator):\n",
    "    group = df.groupby(df[evaluator])\n",
    "    mean = group[get_value].mean()\n",
    "    std = group[get_value].std()\n",
    "    return (df[get_value] - mean[df[evaluator]].values)/ std[df[evaluator]].values\n",
    "groupped_evaluator_standardization = standardization_evaluator(evaldata, 'score1', 'evaluator')\n",
    "groupped_evaluator_standardization"
   ]
  },
  {
   "cell_type": "markdown",
   "id": "1b4be93e",
   "metadata": {},
   "source": [
    "# 데이터 반영\n",
    "- score1, score2, score3 데이터 정규화 진행"
   ]
  },
  {
   "cell_type": "code",
   "execution_count": 182,
   "id": "cef80c84",
   "metadata": {},
   "outputs": [],
   "source": [
    "evaldata['score1_min_max'] = min_max_evaluator(evaldata, 'score1', 'evaluator')\n",
    "evaldata['score2_min_max'] = min_max_evaluator(evaldata, 'score2', 'evaluator')\n",
    "evaldata['score3_min_max'] = min_max_evaluator(evaldata, 'score3', 'evaluator')\n",
    "evaldata['score_sum_mix_max'] = (evaldata['score1_min_max'] + evaldata['score2_min_max'] + evaldata['score3_min_max']) / 3"
   ]
  },
  {
   "cell_type": "code",
   "execution_count": 183,
   "id": "8223525f",
   "metadata": {},
   "outputs": [],
   "source": [
    "evaldata['score1_standardization'] = standardization_evaluator(evaldata, 'score1', 'evaluator')\n",
    "evaldata['score2_standardization'] = standardization_evaluator(evaldata, 'score2', 'evaluator')\n",
    "evaldata['score3_standardization'] = standardization_evaluator(evaldata, 'score3', 'evaluator')\n",
    "evaldata['score_sum_standardization'] = (evaldata['score1_standardization'] + evaldata['score2_standardization'] + evaldata['score3_standardization']) / 3"
   ]
  },
  {
   "cell_type": "code",
   "execution_count": 184,
   "id": "ce04b387",
   "metadata": {},
   "outputs": [
    {
     "data": {
      "text/html": [
       "<div>\n",
       "<style scoped>\n",
       "    .dataframe tbody tr th:only-of-type {\n",
       "        vertical-align: middle;\n",
       "    }\n",
       "\n",
       "    .dataframe tbody tr th {\n",
       "        vertical-align: top;\n",
       "    }\n",
       "\n",
       "    .dataframe thead th {\n",
       "        text-align: right;\n",
       "    }\n",
       "</style>\n",
       "<table border=\"1\" class=\"dataframe\">\n",
       "  <thead>\n",
       "    <tr style=\"text-align: right;\">\n",
       "      <th></th>\n",
       "      <th>index</th>\n",
       "      <th>evaluator</th>\n",
       "      <th>project</th>\n",
       "      <th>score1</th>\n",
       "      <th>score2</th>\n",
       "      <th>score3</th>\n",
       "      <th>score1_min_max</th>\n",
       "      <th>score2_min_max</th>\n",
       "      <th>score3_min_max</th>\n",
       "      <th>score_sum_mix_max</th>\n",
       "      <th>score1_standardization</th>\n",
       "      <th>score2_standardization</th>\n",
       "      <th>score3_standardization</th>\n",
       "      <th>score_sum_standardization</th>\n",
       "    </tr>\n",
       "  </thead>\n",
       "  <tbody>\n",
       "    <tr>\n",
       "      <th>0</th>\n",
       "      <td>0</td>\n",
       "      <td>A</td>\n",
       "      <td>126</td>\n",
       "      <td>4</td>\n",
       "      <td>3</td>\n",
       "      <td>2</td>\n",
       "      <td>1.0</td>\n",
       "      <td>0.5</td>\n",
       "      <td>0.0</td>\n",
       "      <td>0.500000</td>\n",
       "      <td>1.137070</td>\n",
       "      <td>0.000000</td>\n",
       "      <td>-1.479201</td>\n",
       "      <td>-0.114043</td>\n",
       "    </tr>\n",
       "    <tr>\n",
       "      <th>1</th>\n",
       "      <td>1</td>\n",
       "      <td>A</td>\n",
       "      <td>127</td>\n",
       "      <td>3</td>\n",
       "      <td>3</td>\n",
       "      <td>3</td>\n",
       "      <td>0.5</td>\n",
       "      <td>0.5</td>\n",
       "      <td>0.5</td>\n",
       "      <td>0.500000</td>\n",
       "      <td>-0.142134</td>\n",
       "      <td>0.000000</td>\n",
       "      <td>0.184900</td>\n",
       "      <td>0.014255</td>\n",
       "    </tr>\n",
       "    <tr>\n",
       "      <th>2</th>\n",
       "      <td>2</td>\n",
       "      <td>A</td>\n",
       "      <td>128</td>\n",
       "      <td>3</td>\n",
       "      <td>2</td>\n",
       "      <td>2</td>\n",
       "      <td>0.5</td>\n",
       "      <td>0.0</td>\n",
       "      <td>0.0</td>\n",
       "      <td>0.166667</td>\n",
       "      <td>-0.142134</td>\n",
       "      <td>-2.000000</td>\n",
       "      <td>-1.479201</td>\n",
       "      <td>-1.207111</td>\n",
       "    </tr>\n",
       "    <tr>\n",
       "      <th>3</th>\n",
       "      <td>3</td>\n",
       "      <td>A</td>\n",
       "      <td>129</td>\n",
       "      <td>4</td>\n",
       "      <td>3</td>\n",
       "      <td>3</td>\n",
       "      <td>1.0</td>\n",
       "      <td>0.5</td>\n",
       "      <td>0.5</td>\n",
       "      <td>0.666667</td>\n",
       "      <td>1.137070</td>\n",
       "      <td>0.000000</td>\n",
       "      <td>0.184900</td>\n",
       "      <td>0.440657</td>\n",
       "    </tr>\n",
       "    <tr>\n",
       "      <th>4</th>\n",
       "      <td>4</td>\n",
       "      <td>A</td>\n",
       "      <td>130</td>\n",
       "      <td>4</td>\n",
       "      <td>3</td>\n",
       "      <td>3</td>\n",
       "      <td>1.0</td>\n",
       "      <td>0.5</td>\n",
       "      <td>0.5</td>\n",
       "      <td>0.666667</td>\n",
       "      <td>1.137070</td>\n",
       "      <td>0.000000</td>\n",
       "      <td>0.184900</td>\n",
       "      <td>0.440657</td>\n",
       "    </tr>\n",
       "    <tr>\n",
       "      <th>...</th>\n",
       "      <td>...</td>\n",
       "      <td>...</td>\n",
       "      <td>...</td>\n",
       "      <td>...</td>\n",
       "      <td>...</td>\n",
       "      <td>...</td>\n",
       "      <td>...</td>\n",
       "      <td>...</td>\n",
       "      <td>...</td>\n",
       "      <td>...</td>\n",
       "      <td>...</td>\n",
       "      <td>...</td>\n",
       "      <td>...</td>\n",
       "      <td>...</td>\n",
       "    </tr>\n",
       "    <tr>\n",
       "      <th>124</th>\n",
       "      <td>124</td>\n",
       "      <td>O</td>\n",
       "      <td>121</td>\n",
       "      <td>5</td>\n",
       "      <td>4</td>\n",
       "      <td>5</td>\n",
       "      <td>1.0</td>\n",
       "      <td>1.0</td>\n",
       "      <td>1.0</td>\n",
       "      <td>1.000000</td>\n",
       "      <td>1.421338</td>\n",
       "      <td>1.333333</td>\n",
       "      <td>1.257656</td>\n",
       "      <td>1.337443</td>\n",
       "    </tr>\n",
       "    <tr>\n",
       "      <th>125</th>\n",
       "      <td>125</td>\n",
       "      <td>O</td>\n",
       "      <td>122</td>\n",
       "      <td>4</td>\n",
       "      <td>3</td>\n",
       "      <td>4</td>\n",
       "      <td>0.5</td>\n",
       "      <td>0.0</td>\n",
       "      <td>0.5</td>\n",
       "      <td>0.333333</td>\n",
       "      <td>0.142134</td>\n",
       "      <td>-0.666667</td>\n",
       "      <td>0.228665</td>\n",
       "      <td>-0.098623</td>\n",
       "    </tr>\n",
       "    <tr>\n",
       "      <th>126</th>\n",
       "      <td>126</td>\n",
       "      <td>O</td>\n",
       "      <td>123</td>\n",
       "      <td>3</td>\n",
       "      <td>3</td>\n",
       "      <td>3</td>\n",
       "      <td>0.0</td>\n",
       "      <td>0.0</td>\n",
       "      <td>0.0</td>\n",
       "      <td>0.000000</td>\n",
       "      <td>-1.137070</td>\n",
       "      <td>-0.666667</td>\n",
       "      <td>-0.800327</td>\n",
       "      <td>-0.868021</td>\n",
       "    </tr>\n",
       "    <tr>\n",
       "      <th>127</th>\n",
       "      <td>127</td>\n",
       "      <td>O</td>\n",
       "      <td>124</td>\n",
       "      <td>3</td>\n",
       "      <td>3</td>\n",
       "      <td>3</td>\n",
       "      <td>0.0</td>\n",
       "      <td>0.0</td>\n",
       "      <td>0.0</td>\n",
       "      <td>0.000000</td>\n",
       "      <td>-1.137070</td>\n",
       "      <td>-0.666667</td>\n",
       "      <td>-0.800327</td>\n",
       "      <td>-0.868021</td>\n",
       "    </tr>\n",
       "    <tr>\n",
       "      <th>128</th>\n",
       "      <td>128</td>\n",
       "      <td>O</td>\n",
       "      <td>125</td>\n",
       "      <td>5</td>\n",
       "      <td>4</td>\n",
       "      <td>5</td>\n",
       "      <td>1.0</td>\n",
       "      <td>1.0</td>\n",
       "      <td>1.0</td>\n",
       "      <td>1.000000</td>\n",
       "      <td>1.421338</td>\n",
       "      <td>1.333333</td>\n",
       "      <td>1.257656</td>\n",
       "      <td>1.337443</td>\n",
       "    </tr>\n",
       "  </tbody>\n",
       "</table>\n",
       "<p>129 rows × 14 columns</p>\n",
       "</div>"
      ],
      "text/plain": [
       "     index evaluator  project  score1  score2  score3  score1_min_max  \\\n",
       "0        0         A      126       4       3       2             1.0   \n",
       "1        1         A      127       3       3       3             0.5   \n",
       "2        2         A      128       3       2       2             0.5   \n",
       "3        3         A      129       4       3       3             1.0   \n",
       "4        4         A      130       4       3       3             1.0   \n",
       "..     ...       ...      ...     ...     ...     ...             ...   \n",
       "124    124         O      121       5       4       5             1.0   \n",
       "125    125         O      122       4       3       4             0.5   \n",
       "126    126         O      123       3       3       3             0.0   \n",
       "127    127         O      124       3       3       3             0.0   \n",
       "128    128         O      125       5       4       5             1.0   \n",
       "\n",
       "     score2_min_max  score3_min_max  score_sum_mix_max  \\\n",
       "0               0.5             0.0           0.500000   \n",
       "1               0.5             0.5           0.500000   \n",
       "2               0.0             0.0           0.166667   \n",
       "3               0.5             0.5           0.666667   \n",
       "4               0.5             0.5           0.666667   \n",
       "..              ...             ...                ...   \n",
       "124             1.0             1.0           1.000000   \n",
       "125             0.0             0.5           0.333333   \n",
       "126             0.0             0.0           0.000000   \n",
       "127             0.0             0.0           0.000000   \n",
       "128             1.0             1.0           1.000000   \n",
       "\n",
       "     score1_standardization  score2_standardization  score3_standardization  \\\n",
       "0                  1.137070                0.000000               -1.479201   \n",
       "1                 -0.142134                0.000000                0.184900   \n",
       "2                 -0.142134               -2.000000               -1.479201   \n",
       "3                  1.137070                0.000000                0.184900   \n",
       "4                  1.137070                0.000000                0.184900   \n",
       "..                      ...                     ...                     ...   \n",
       "124                1.421338                1.333333                1.257656   \n",
       "125                0.142134               -0.666667                0.228665   \n",
       "126               -1.137070               -0.666667               -0.800327   \n",
       "127               -1.137070               -0.666667               -0.800327   \n",
       "128                1.421338                1.333333                1.257656   \n",
       "\n",
       "     score_sum_standardization  \n",
       "0                    -0.114043  \n",
       "1                     0.014255  \n",
       "2                    -1.207111  \n",
       "3                     0.440657  \n",
       "4                     0.440657  \n",
       "..                         ...  \n",
       "124                   1.337443  \n",
       "125                  -0.098623  \n",
       "126                  -0.868021  \n",
       "127                  -0.868021  \n",
       "128                   1.337443  \n",
       "\n",
       "[129 rows x 14 columns]"
      ]
     },
     "execution_count": 184,
     "metadata": {},
     "output_type": "execute_result"
    }
   ],
   "source": [
    "evaldata"
   ]
  },
  {
   "cell_type": "markdown",
   "id": "dd750c7e",
   "metadata": {},
   "source": [
    "### Project 별 정규화 평균값 획득"
   ]
  },
  {
   "cell_type": "code",
   "execution_count": 187,
   "id": "aedca3c0",
   "metadata": {},
   "outputs": [
    {
     "data": {
      "text/plain": [
       "project\n",
       "101    0.574074\n",
       "102    0.203704\n",
       "103    0.203704\n",
       "104    0.333333\n",
       "105    0.277778\n",
       "Name: score_sum_mix_max, dtype: float64"
      ]
     },
     "execution_count": 187,
     "metadata": {},
     "output_type": "execute_result"
    }
   ],
   "source": [
    "projects_min_max = evaldata['score_sum_mix_max'].groupby(evaldata['project']).mean()\n",
    "projects_min_max.head(5)\n"
   ]
  },
  {
   "cell_type": "code",
   "execution_count": 188,
   "id": "1fc99e3f",
   "metadata": {},
   "outputs": [
    {
     "data": {
      "text/plain": [
       "project\n",
       "101    0.410185\n",
       "102   -0.436231\n",
       "103   -0.460268\n",
       "104   -0.122528\n",
       "105   -0.245477\n",
       "Name: score_sum_standardization, dtype: float64"
      ]
     },
     "execution_count": 188,
     "metadata": {},
     "output_type": "execute_result"
    }
   ],
   "source": [
    "projects_standardization = evaldata['score_sum_standardization'].groupby(evaldata['project']).mean()\n",
    "projects_standardization.head(5)"
   ]
  },
  {
   "cell_type": "markdown",
   "id": "060ba534",
   "metadata": {},
   "source": [
    "### Top 5 선정"
   ]
  },
  {
   "cell_type": "code",
   "execution_count": 189,
   "id": "8df81afa",
   "metadata": {},
   "outputs": [
    {
     "data": {
      "text/plain": [
       "project\n",
       "204    0.888889\n",
       "107    0.814815\n",
       "132    0.796296\n",
       "109    0.791667\n",
       "206    0.777778\n",
       "Name: score_sum_mix_max, dtype: float64"
      ]
     },
     "execution_count": 189,
     "metadata": {},
     "output_type": "execute_result"
    }
   ],
   "source": [
    "projects_min_max.sort_values(ascending=False).head(5)"
   ]
  },
  {
   "cell_type": "code",
   "execution_count": 190,
   "id": "bd447217",
   "metadata": {},
   "outputs": [
    {
     "data": {
      "text/plain": [
       "project\n",
       "107    1.120909\n",
       "109    1.009076\n",
       "119    0.916160\n",
       "132    0.824498\n",
       "108    0.609261\n",
       "Name: score_sum_standardization, dtype: float64"
      ]
     },
     "execution_count": 190,
     "metadata": {},
     "output_type": "execute_result"
    }
   ],
   "source": [
    "projects_standardization.sort_values(ascending=False).head(5)"
   ]
  }
 ],
 "metadata": {
  "language_info": {
   "name": "python"
  }
 },
 "nbformat": 4,
 "nbformat_minor": 5
}
