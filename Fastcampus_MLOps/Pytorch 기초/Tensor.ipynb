{
 "cells": [
  {
   "cell_type": "markdown",
   "metadata": {},
   "source": [
    "# Conda 설치\n",
    "- https://docs.anaconda.com/miniconda/"
   ]
  },
  {
   "cell_type": "markdown",
   "metadata": {},
   "source": [
    "# Pytorch"
   ]
  },
  {
   "cell_type": "code",
   "execution_count": 1,
   "metadata": {},
   "outputs": [
    {
     "name": "stdout",
     "output_type": "stream",
     "text": [
      "Requirement already satisfied: torch in c:\\users\\juhyu\\miniconda3\\lib\\site-packages (2.5.1)\n",
      "Requirement already satisfied: filelock in c:\\users\\juhyu\\miniconda3\\lib\\site-packages (from torch) (3.16.1)\n",
      "Requirement already satisfied: typing-extensions>=4.8.0 in c:\\users\\juhyu\\miniconda3\\lib\\site-packages (from torch) (4.12.2)\n",
      "Requirement already satisfied: networkx in c:\\users\\juhyu\\miniconda3\\lib\\site-packages (from torch) (3.4.2)\n",
      "Requirement already satisfied: jinja2 in c:\\users\\juhyu\\miniconda3\\lib\\site-packages (from torch) (3.1.5)\n",
      "Requirement already satisfied: fsspec in c:\\users\\juhyu\\miniconda3\\lib\\site-packages (from torch) (2024.12.0)\n",
      "Requirement already satisfied: sympy==1.13.1 in c:\\users\\juhyu\\miniconda3\\lib\\site-packages (from torch) (1.13.1)\n",
      "Requirement already satisfied: mpmath<1.4,>=1.1.0 in c:\\users\\juhyu\\miniconda3\\lib\\site-packages (from sympy==1.13.1->torch) (1.3.0)\n",
      "Requirement already satisfied: MarkupSafe>=2.0 in c:\\users\\juhyu\\miniconda3\\lib\\site-packages (from jinja2->torch) (3.0.2)\n"
     ]
    }
   ],
   "source": [
    "!pip install torch"
   ]
  },
  {
   "cell_type": "code",
   "execution_count": 2,
   "metadata": {},
   "outputs": [
    {
     "name": "stderr",
     "output_type": "stream",
     "text": [
      "c:\\Users\\juhyu\\miniconda3\\Lib\\site-packages\\torch\\_subclasses\\functional_tensor.py:295: UserWarning: Failed to initialize NumPy: No module named 'numpy' (Triggered internally at C:\\actions-runner\\_work\\pytorch\\pytorch\\builder\\windows\\pytorch\\torch\\csrc\\utils\\tensor_numpy.cpp:84.)\n",
      "  cpu = _conversion_method_template(device=torch.device(\"cpu\"))\n"
     ]
    },
    {
     "name": "stdout",
     "output_type": "stream",
     "text": [
      "tensor([5., 7., 9.])\n"
     ]
    }
   ],
   "source": [
    "import torch\n",
    "\n",
    "# Scalar\n",
    "x = torch.tensor(5.0)\n",
    "\n",
    "# Vector\n",
    "v = torch.tensor([1.0, 2.0, 3.0])\n",
    "\n",
    "# Matrix\n",
    "M = torch.tensor([[1.0, 2.0], [3.0, 4.0]])\n",
    "\n",
    "v1 = torch.tensor([1.0, 2.0, 3.0])\n",
    "v2 = torch.tensor([4.0, 5.0, 6.0])\n",
    "\n",
    "z1 = v1 + v2\n",
    "print(z1)"
   ]
  },
  {
   "cell_type": "markdown",
   "metadata": {},
   "source": [
    "# Trochviz 설치\n",
    "### 기본 설치 (Colab의 경에 해당)\n",
    "!pip install torchviz\n",
    "\n",
    "### Local 환경 Path 자동 지정\n",
    "!conda install python-graphviz\n",
    "\n",
    "### 참조사이트\n",
    "- https://free-eunb.tistory.com/14#google_vignette"
   ]
  },
  {
   "cell_type": "code",
   "execution_count": 21,
   "metadata": {},
   "outputs": [
    {
     "name": "stdout",
     "output_type": "stream",
     "text": [
      "Requirement already satisfied: matplotlib in c:\\users\\juhyu\\miniconda3\\lib\\site-packages (3.10.0)\n",
      "Requirement already satisfied: contourpy>=1.0.1 in c:\\users\\juhyu\\miniconda3\\lib\\site-packages (from matplotlib) (1.3.1)\n",
      "Requirement already satisfied: cycler>=0.10 in c:\\users\\juhyu\\miniconda3\\lib\\site-packages (from matplotlib) (0.12.1)\n",
      "Requirement already satisfied: fonttools>=4.22.0 in c:\\users\\juhyu\\miniconda3\\lib\\site-packages (from matplotlib) (4.55.3)\n",
      "Requirement already satisfied: kiwisolver>=1.3.1 in c:\\users\\juhyu\\miniconda3\\lib\\site-packages (from matplotlib) (1.4.8)\n",
      "Requirement already satisfied: numpy>=1.23 in c:\\users\\juhyu\\miniconda3\\lib\\site-packages (from matplotlib) (2.2.1)\n",
      "Requirement already satisfied: packaging>=20.0 in c:\\users\\juhyu\\miniconda3\\lib\\site-packages (from matplotlib) (24.2)\n",
      "Requirement already satisfied: pillow>=8 in c:\\users\\juhyu\\miniconda3\\lib\\site-packages (from matplotlib) (11.0.0)\n",
      "Requirement already satisfied: pyparsing>=2.3.1 in c:\\users\\juhyu\\miniconda3\\lib\\site-packages (from matplotlib) (3.2.1)\n",
      "Requirement already satisfied: python-dateutil>=2.7 in c:\\users\\juhyu\\miniconda3\\lib\\site-packages (from matplotlib) (2.9.0.post0)\n",
      "Requirement already satisfied: six>=1.5 in c:\\users\\juhyu\\miniconda3\\lib\\site-packages (from python-dateutil>=2.7->matplotlib) (1.16.0)\n"
     ]
    }
   ],
   "source": [
    "\n",
    "\n",
    "!pip install -U matplotlib"
   ]
  },
  {
   "cell_type": "code",
   "execution_count": 22,
   "metadata": {},
   "outputs": [
    {
     "name": "stdout",
     "output_type": "stream",
     "text": [
      "tensor([5., 7., 9.], grad_fn=<AddBackward0>)\n",
      "<AddBackward0 object at 0x000001429B4CC9D0>\n"
     ]
    }
   ],
   "source": [
    "from torchviz import make_dot \n",
    "import torch\n",
    "import torch.nn as nn\n",
    "import torch.optim as optim\n",
    "import matplotlib.pyplot as plt\n",
    "\n",
    "x = torch.tensor([1.0, 2.0, 3.0], requires_grad=True)\n",
    "y = torch.tensor([4.0, 5.0, 6.0], requires_grad=True)\n",
    "\n",
    "z = x + y\n",
    "print(z)\n",
    "print(z.grad_fn) # z1이라는 함수의 계산 과정을 담고 있다 (requires_grad=True)\n",
    "# 최종적으로 s.backward() 기능을 사용하기 위해서 사용합니다."
   ]
  },
  {
   "cell_type": "code",
   "execution_count": 23,
   "metadata": {},
   "outputs": [
    {
     "data": {
      "image/svg+xml": [
       "<?xml version=\"1.0\" encoding=\"UTF-8\" standalone=\"no\"?>\n",
       "<!DOCTYPE svg PUBLIC \"-//W3C//DTD SVG 1.1//EN\"\n",
       " \"http://www.w3.org/Graphics/SVG/1.1/DTD/svg11.dtd\">\n",
       "<!-- Generated by graphviz version 2.50.0 (0)\n",
       " -->\n",
       "<!-- Pages: 1 -->\n",
       "<svg width=\"540pt\" height=\"236pt\"\n",
       " viewBox=\"0.00 0.00 540.00 236.00\" xmlns=\"http://www.w3.org/2000/svg\" xmlns:xlink=\"http://www.w3.org/1999/xlink\">\n",
       "<g id=\"graph0\" class=\"graph\" transform=\"scale(1 1) rotate(0) translate(4 232)\">\n",
       "<polygon fill=\"white\" stroke=\"transparent\" points=\"-4,4 -4,-232 536,-232 536,4 -4,4\"/>\n",
       "<!-- 1385594314992 -->\n",
       "<g id=\"node1\" class=\"node\">\n",
       "<title>1385594314992</title>\n",
       "<polygon fill=\"#caff70\" stroke=\"black\" points=\"406,-30 125,-30 125,0 406,0 406,-30\"/>\n",
       "<text text-anchor=\"middle\" x=\"265.5\" y=\"-18\" font-family=\"monospace\" font-size=\"10.00\">tensor([5., 7., 9.], grad_fn=&lt;AddBackward0&gt;)</text>\n",
       "<text text-anchor=\"middle\" x=\"265.5\" y=\"-7\" font-family=\"monospace\" font-size=\"10.00\"> (3)</text>\n",
       "</g>\n",
       "<!-- 1385583392368 -->\n",
       "<g id=\"node2\" class=\"node\">\n",
       "<title>1385583392368</title>\n",
       "<polygon fill=\"lightgrey\" stroke=\"black\" points=\"310,-107 221,-107 221,-66 310,-66 310,-107\"/>\n",
       "<text text-anchor=\"middle\" x=\"265.5\" y=\"-95\" font-family=\"monospace\" font-size=\"10.00\">AddBackward0</text>\n",
       "<text text-anchor=\"middle\" x=\"265.5\" y=\"-84\" font-family=\"monospace\" font-size=\"10.00\">&#45;&#45;&#45;&#45;&#45;&#45;&#45;&#45;&#45;&#45;&#45;&#45;</text>\n",
       "<text text-anchor=\"middle\" x=\"265.5\" y=\"-73\" font-family=\"monospace\" font-size=\"10.00\">alpha: 1</text>\n",
       "</g>\n",
       "<!-- 1385583392368&#45;&gt;1385594314992 -->\n",
       "<g id=\"edge5\" class=\"edge\">\n",
       "<title>1385583392368&#45;&gt;1385594314992</title>\n",
       "<path fill=\"none\" stroke=\"black\" d=\"M265.5,-65.77C265.5,-57.85 265.5,-48.63 265.5,-40.3\"/>\n",
       "<polygon fill=\"black\" stroke=\"black\" points=\"269,-40.04 265.5,-30.04 262,-40.04 269,-40.04\"/>\n",
       "</g>\n",
       "<!-- 1385583387904 -->\n",
       "<g id=\"node3\" class=\"node\">\n",
       "<title>1385583387904</title>\n",
       "<polygon fill=\"lightgrey\" stroke=\"black\" points=\"218,-162 117,-162 117,-143 218,-143 218,-162\"/>\n",
       "<text text-anchor=\"middle\" x=\"167.5\" y=\"-150\" font-family=\"monospace\" font-size=\"10.00\">AccumulateGrad</text>\n",
       "</g>\n",
       "<!-- 1385583387904&#45;&gt;1385583392368 -->\n",
       "<g id=\"edge1\" class=\"edge\">\n",
       "<title>1385583387904&#45;&gt;1385583392368</title>\n",
       "<path fill=\"none\" stroke=\"black\" d=\"M180.72,-142.87C192.64,-135.08 210.78,-123.24 227.22,-112.5\"/>\n",
       "<polygon fill=\"black\" stroke=\"black\" points=\"229.17,-115.41 235.63,-107.01 225.34,-109.55 229.17,-115.41\"/>\n",
       "</g>\n",
       "<!-- 1385594316336 -->\n",
       "<g id=\"node4\" class=\"node\">\n",
       "<title>1385594316336</title>\n",
       "<polygon fill=\"lightblue\" stroke=\"black\" points=\"257,-228 0,-228 0,-198 257,-198 257,-228\"/>\n",
       "<text text-anchor=\"middle\" x=\"128.5\" y=\"-216\" font-family=\"monospace\" font-size=\"10.00\">tensor([1., 2., 3.], requires_grad=True)</text>\n",
       "<text text-anchor=\"middle\" x=\"128.5\" y=\"-205\" font-family=\"monospace\" font-size=\"10.00\"> (3)</text>\n",
       "</g>\n",
       "<!-- 1385594316336&#45;&gt;1385583387904 -->\n",
       "<g id=\"edge2\" class=\"edge\">\n",
       "<title>1385594316336&#45;&gt;1385583387904</title>\n",
       "<path fill=\"none\" stroke=\"black\" d=\"M137.94,-197.84C143.37,-189.69 150.23,-179.4 155.98,-170.78\"/>\n",
       "<polygon fill=\"black\" stroke=\"black\" points=\"159.02,-172.53 161.66,-162.27 153.2,-168.65 159.02,-172.53\"/>\n",
       "</g>\n",
       "<!-- 1385583391456 -->\n",
       "<g id=\"node5\" class=\"node\">\n",
       "<title>1385583391456</title>\n",
       "<polygon fill=\"lightgrey\" stroke=\"black\" points=\"415,-162 314,-162 314,-143 415,-143 415,-162\"/>\n",
       "<text text-anchor=\"middle\" x=\"364.5\" y=\"-150\" font-family=\"monospace\" font-size=\"10.00\">AccumulateGrad</text>\n",
       "</g>\n",
       "<!-- 1385583391456&#45;&gt;1385583392368 -->\n",
       "<g id=\"edge3\" class=\"edge\">\n",
       "<title>1385583391456&#45;&gt;1385583392368</title>\n",
       "<path fill=\"none\" stroke=\"black\" d=\"M351.15,-142.87C339.1,-135.08 320.78,-123.24 304.17,-112.5\"/>\n",
       "<polygon fill=\"black\" stroke=\"black\" points=\"305.98,-109.5 295.68,-107.01 302.18,-115.38 305.98,-109.5\"/>\n",
       "</g>\n",
       "<!-- 1385594313072 -->\n",
       "<g id=\"node6\" class=\"node\">\n",
       "<title>1385594313072</title>\n",
       "<polygon fill=\"lightblue\" stroke=\"black\" points=\"532,-228 275,-228 275,-198 532,-198 532,-228\"/>\n",
       "<text text-anchor=\"middle\" x=\"403.5\" y=\"-216\" font-family=\"monospace\" font-size=\"10.00\">tensor([4., 5., 6.], requires_grad=True)</text>\n",
       "<text text-anchor=\"middle\" x=\"403.5\" y=\"-205\" font-family=\"monospace\" font-size=\"10.00\"> (3)</text>\n",
       "</g>\n",
       "<!-- 1385594313072&#45;&gt;1385583391456 -->\n",
       "<g id=\"edge4\" class=\"edge\">\n",
       "<title>1385594313072&#45;&gt;1385583391456</title>\n",
       "<path fill=\"none\" stroke=\"black\" d=\"M394.06,-197.84C388.63,-189.69 381.77,-179.4 376.02,-170.78\"/>\n",
       "<polygon fill=\"black\" stroke=\"black\" points=\"378.8,-168.65 370.34,-162.27 372.98,-172.53 378.8,-168.65\"/>\n",
       "</g>\n",
       "</g>\n",
       "</svg>\n"
      ],
      "text/plain": [
       "<graphviz.graphs.Digraph at 0x1429bd75c90>"
      ]
     },
     "execution_count": 23,
     "metadata": {},
     "output_type": "execute_result"
    }
   ],
   "source": [
    "make_dot(z, params={x:x, y:y, z:z}, show_attrs=True, show_saved=True)"
   ]
  },
  {
   "cell_type": "code",
   "execution_count": 24,
   "metadata": {},
   "outputs": [],
   "source": [
    "s = z.sum()"
   ]
  },
  {
   "cell_type": "code",
   "execution_count": 25,
   "metadata": {},
   "outputs": [
    {
     "data": {
      "image/svg+xml": [
       "<?xml version=\"1.0\" encoding=\"UTF-8\" standalone=\"no\"?>\n",
       "<!DOCTYPE svg PUBLIC \"-//W3C//DTD SVG 1.1//EN\"\n",
       " \"http://www.w3.org/Graphics/SVG/1.1/DTD/svg11.dtd\">\n",
       "<!-- Generated by graphviz version 2.50.0 (0)\n",
       " -->\n",
       "<!-- Pages: 1 -->\n",
       "<svg width=\"540pt\" height=\"313pt\"\n",
       " viewBox=\"0.00 0.00 540.00 313.00\" xmlns=\"http://www.w3.org/2000/svg\" xmlns:xlink=\"http://www.w3.org/1999/xlink\">\n",
       "<g id=\"graph0\" class=\"graph\" transform=\"scale(1 1) rotate(0) translate(4 309)\">\n",
       "<polygon fill=\"white\" stroke=\"transparent\" points=\"-4,4 -4,-309 536,-309 536,4 -4,4\"/>\n",
       "<!-- 1385594314800 -->\n",
       "<g id=\"node1\" class=\"node\">\n",
       "<title>1385594314800</title>\n",
       "<polygon fill=\"#caff70\" stroke=\"black\" points=\"379,-30 152,-30 152,0 379,0 379,-30\"/>\n",
       "<text text-anchor=\"middle\" x=\"265.5\" y=\"-18\" font-family=\"monospace\" font-size=\"10.00\">tensor(21., grad_fn=&lt;SumBackward0&gt;)</text>\n",
       "<text text-anchor=\"middle\" x=\"265.5\" y=\"-7\" font-family=\"monospace\" font-size=\"10.00\"> ()</text>\n",
       "</g>\n",
       "<!-- 1385584970144 -->\n",
       "<g id=\"node2\" class=\"node\">\n",
       "<title>1385584970144</title>\n",
       "<polygon fill=\"lightgrey\" stroke=\"black\" points=\"334,-107 197,-107 197,-66 334,-66 334,-107\"/>\n",
       "<text text-anchor=\"middle\" x=\"265.5\" y=\"-95\" font-family=\"monospace\" font-size=\"10.00\">SumBackward0</text>\n",
       "<text text-anchor=\"middle\" x=\"265.5\" y=\"-84\" font-family=\"monospace\" font-size=\"10.00\">&#45;&#45;&#45;&#45;&#45;&#45;&#45;&#45;&#45;&#45;&#45;&#45;&#45;&#45;&#45;&#45;&#45;&#45;&#45;&#45;</text>\n",
       "<text text-anchor=\"middle\" x=\"265.5\" y=\"-73\" font-family=\"monospace\" font-size=\"10.00\">self_sym_sizes: (3,)</text>\n",
       "</g>\n",
       "<!-- 1385584970144&#45;&gt;1385594314800 -->\n",
       "<g id=\"edge6\" class=\"edge\">\n",
       "<title>1385584970144&#45;&gt;1385594314800</title>\n",
       "<path fill=\"none\" stroke=\"black\" d=\"M265.5,-65.77C265.5,-57.85 265.5,-48.63 265.5,-40.3\"/>\n",
       "<polygon fill=\"black\" stroke=\"black\" points=\"269,-40.04 265.5,-30.04 262,-40.04 269,-40.04\"/>\n",
       "</g>\n",
       "<!-- 1385583392368 -->\n",
       "<g id=\"node3\" class=\"node\">\n",
       "<title>1385583392368</title>\n",
       "<polygon fill=\"lightgrey\" stroke=\"black\" points=\"310,-184 221,-184 221,-143 310,-143 310,-184\"/>\n",
       "<text text-anchor=\"middle\" x=\"265.5\" y=\"-172\" font-family=\"monospace\" font-size=\"10.00\">AddBackward0</text>\n",
       "<text text-anchor=\"middle\" x=\"265.5\" y=\"-161\" font-family=\"monospace\" font-size=\"10.00\">&#45;&#45;&#45;&#45;&#45;&#45;&#45;&#45;&#45;&#45;&#45;&#45;</text>\n",
       "<text text-anchor=\"middle\" x=\"265.5\" y=\"-150\" font-family=\"monospace\" font-size=\"10.00\">alpha: 1</text>\n",
       "</g>\n",
       "<!-- 1385583392368&#45;&gt;1385584970144 -->\n",
       "<g id=\"edge1\" class=\"edge\">\n",
       "<title>1385583392368&#45;&gt;1385584970144</title>\n",
       "<path fill=\"none\" stroke=\"black\" d=\"M265.5,-142.79C265.5,-134.96 265.5,-125.77 265.5,-117.16\"/>\n",
       "<polygon fill=\"black\" stroke=\"black\" points=\"269,-117.07 265.5,-107.07 262,-117.07 269,-117.07\"/>\n",
       "</g>\n",
       "<!-- 1385583387904 -->\n",
       "<g id=\"node4\" class=\"node\">\n",
       "<title>1385583387904</title>\n",
       "<polygon fill=\"lightgrey\" stroke=\"black\" points=\"218,-239 117,-239 117,-220 218,-220 218,-239\"/>\n",
       "<text text-anchor=\"middle\" x=\"167.5\" y=\"-227\" font-family=\"monospace\" font-size=\"10.00\">AccumulateGrad</text>\n",
       "</g>\n",
       "<!-- 1385583387904&#45;&gt;1385583392368 -->\n",
       "<g id=\"edge2\" class=\"edge\">\n",
       "<title>1385583387904&#45;&gt;1385583392368</title>\n",
       "<path fill=\"none\" stroke=\"black\" d=\"M180.72,-219.87C192.64,-212.08 210.78,-200.24 227.22,-189.5\"/>\n",
       "<polygon fill=\"black\" stroke=\"black\" points=\"229.17,-192.41 235.63,-184.01 225.34,-186.55 229.17,-192.41\"/>\n",
       "</g>\n",
       "<!-- 1385594316336 -->\n",
       "<g id=\"node5\" class=\"node\">\n",
       "<title>1385594316336</title>\n",
       "<polygon fill=\"lightblue\" stroke=\"black\" points=\"257,-305 0,-305 0,-275 257,-275 257,-305\"/>\n",
       "<text text-anchor=\"middle\" x=\"128.5\" y=\"-293\" font-family=\"monospace\" font-size=\"10.00\">tensor([1., 2., 3.], requires_grad=True)</text>\n",
       "<text text-anchor=\"middle\" x=\"128.5\" y=\"-282\" font-family=\"monospace\" font-size=\"10.00\"> (3)</text>\n",
       "</g>\n",
       "<!-- 1385594316336&#45;&gt;1385583387904 -->\n",
       "<g id=\"edge3\" class=\"edge\">\n",
       "<title>1385594316336&#45;&gt;1385583387904</title>\n",
       "<path fill=\"none\" stroke=\"black\" d=\"M137.94,-274.84C143.37,-266.69 150.23,-256.4 155.98,-247.78\"/>\n",
       "<polygon fill=\"black\" stroke=\"black\" points=\"159.02,-249.53 161.66,-239.27 153.2,-245.65 159.02,-249.53\"/>\n",
       "</g>\n",
       "<!-- 1385583391456 -->\n",
       "<g id=\"node6\" class=\"node\">\n",
       "<title>1385583391456</title>\n",
       "<polygon fill=\"lightgrey\" stroke=\"black\" points=\"415,-239 314,-239 314,-220 415,-220 415,-239\"/>\n",
       "<text text-anchor=\"middle\" x=\"364.5\" y=\"-227\" font-family=\"monospace\" font-size=\"10.00\">AccumulateGrad</text>\n",
       "</g>\n",
       "<!-- 1385583391456&#45;&gt;1385583392368 -->\n",
       "<g id=\"edge4\" class=\"edge\">\n",
       "<title>1385583391456&#45;&gt;1385583392368</title>\n",
       "<path fill=\"none\" stroke=\"black\" d=\"M351.15,-219.87C339.1,-212.08 320.78,-200.24 304.17,-189.5\"/>\n",
       "<polygon fill=\"black\" stroke=\"black\" points=\"305.98,-186.5 295.68,-184.01 302.18,-192.38 305.98,-186.5\"/>\n",
       "</g>\n",
       "<!-- 1385594313072 -->\n",
       "<g id=\"node7\" class=\"node\">\n",
       "<title>1385594313072</title>\n",
       "<polygon fill=\"lightblue\" stroke=\"black\" points=\"532,-305 275,-305 275,-275 532,-275 532,-305\"/>\n",
       "<text text-anchor=\"middle\" x=\"403.5\" y=\"-293\" font-family=\"monospace\" font-size=\"10.00\">tensor([4., 5., 6.], requires_grad=True)</text>\n",
       "<text text-anchor=\"middle\" x=\"403.5\" y=\"-282\" font-family=\"monospace\" font-size=\"10.00\"> (3)</text>\n",
       "</g>\n",
       "<!-- 1385594313072&#45;&gt;1385583391456 -->\n",
       "<g id=\"edge5\" class=\"edge\">\n",
       "<title>1385594313072&#45;&gt;1385583391456</title>\n",
       "<path fill=\"none\" stroke=\"black\" d=\"M394.06,-274.84C388.63,-266.69 381.77,-256.4 376.02,-247.78\"/>\n",
       "<polygon fill=\"black\" stroke=\"black\" points=\"378.8,-245.65 370.34,-239.27 372.98,-249.53 378.8,-245.65\"/>\n",
       "</g>\n",
       "</g>\n",
       "</svg>\n"
      ],
      "text/plain": [
       "<graphviz.graphs.Digraph at 0x1429bd766d0>"
      ]
     },
     "execution_count": 25,
     "metadata": {},
     "output_type": "execute_result"
    }
   ],
   "source": [
    "make_dot(s, params={x:x, y:y, z:z, s:s}, show_attrs=True, show_saved=True)"
   ]
  },
  {
   "cell_type": "code",
   "execution_count": 26,
   "metadata": {},
   "outputs": [],
   "source": [
    "s.backward()"
   ]
  },
  {
   "cell_type": "markdown",
   "metadata": {},
   "source": [
    "# Tensor 기본"
   ]
  },
  {
   "cell_type": "code",
   "execution_count": 29,
   "metadata": {},
   "outputs": [
    {
     "name": "stdout",
     "output_type": "stream",
     "text": [
      "tensor([[0., 0., 0.],\n",
      "        [0., 0., 0.]])\n",
      "tensor([[1., 1., 1.],\n",
      "        [1., 1., 1.]])\n",
      "tensor([[1, 2],\n",
      "        [3, 4]])\n"
     ]
    }
   ],
   "source": [
    "from torchviz import make_dot \n",
    "import torch\n",
    "import torch.nn as nn\n",
    "import torch.optim as optim\n",
    "import matplotlib.pyplot as plt\n",
    "\n",
    "x = torch.zeros(2, 3)\n",
    "print(x)\n",
    "\n",
    "y = torch.ones(2, 3)\n",
    "print(y)\n",
    "\n",
    "z = torch.tensor([[1,2], [3,4]])\n",
    "print(z)"
   ]
  },
  {
   "cell_type": "markdown",
   "metadata": {},
   "source": [
    "### 텐서 타입 및 크기 확인"
   ]
  },
  {
   "cell_type": "code",
   "execution_count": 33,
   "metadata": {},
   "outputs": [
    {
     "name": "stdout",
     "output_type": "stream",
     "text": [
      "tensor([[[0.0296, 0.3549, 0.5943, 0.7748],\n",
      "         [0.8961, 0.3292, 0.6179, 0.1220],\n",
      "         [0.6888, 0.9910, 0.9675, 0.8531]],\n",
      "\n",
      "        [[0.4969, 0.9738, 0.7834, 0.7699],\n",
      "         [0.4859, 0.1568, 0.4965, 0.9348],\n",
      "         [0.4349, 0.9955, 0.5394, 0.7291]]])\n",
      "torch.float32\n",
      "torch.Size([2, 3, 4])\n"
     ]
    }
   ],
   "source": [
    "x = torch.rand(2, 3, 4)\n",
    "\n",
    "print(x)\n",
    "print(x.dtype)\n",
    "print(x.size())"
   ]
  },
  {
   "cell_type": "markdown",
   "metadata": {},
   "source": [
    "### 텐서 변환 (reshape)"
   ]
  },
  {
   "cell_type": "code",
   "execution_count": 34,
   "metadata": {},
   "outputs": [
    {
     "name": "stdout",
     "output_type": "stream",
     "text": [
      "torch.Size([16])\n",
      "torch.Size([2, 8])\n"
     ]
    }
   ],
   "source": [
    "x = torch.rand(4, 4)\n",
    "\n",
    "y= x.view(16)\n",
    "z = x.view(-1, 8) # -1은 차원을 추론하여 자동 계산\n",
    "print(y.size())\n",
    "print(z.size())"
   ]
  },
  {
   "cell_type": "markdown",
   "metadata": {},
   "source": [
    "### 텐서 연결"
   ]
  },
  {
   "cell_type": "code",
   "execution_count": 35,
   "metadata": {},
   "outputs": [
    {
     "name": "stdout",
     "output_type": "stream",
     "text": [
      "tensor([[1, 2],\n",
      "        [3, 4],\n",
      "        [5, 6]])\n"
     ]
    }
   ],
   "source": [
    "a = torch.tensor([[1,2], [3,4]])\n",
    "b = torch.tensor([[5, 6]])\n",
    "c = torch.cat([a, b], dim=0) # dim=0 행을 기준으로 병합, 1로 하면 열을 기준으 병합\n",
    "\n",
    "print(c)"
   ]
  },
  {
   "cell_type": "markdown",
   "metadata": {},
   "source": [
    "### 텐서 차원 추가 및 제거"
   ]
  },
  {
   "cell_type": "code",
   "execution_count": 39,
   "metadata": {},
   "outputs": [
    {
     "name": "stdout",
     "output_type": "stream",
     "text": [
      "tensor([1, 2, 3, 4])\n",
      "tensor([[1, 2, 3, 4]])\n",
      "tensor([[1],\n",
      "        [2],\n",
      "        [3],\n",
      "        [4]])\n",
      "tensor([1, 2, 3, 4])\n"
     ]
    }
   ],
   "source": [
    "x = torch.tensor([1, 2, 3, 4])\n",
    "y = x.unsqueeze(0) # 차원 추가\n",
    "z = x.unsqueeze(-1) \n",
    "w = x.squeeze(0) # 차원 제거\n",
    "\n",
    "print(x)\n",
    "print(y)\n",
    "print(z)\n",
    "print(w)"
   ]
  },
  {
   "cell_type": "markdown",
   "metadata": {},
   "source": [
    "### 텐서 인덱싱 및 슬라이싱"
   ]
  },
  {
   "cell_type": "code",
   "execution_count": 40,
   "metadata": {},
   "outputs": [
    {
     "name": "stdout",
     "output_type": "stream",
     "text": [
      "tensor([[1, 2, 3],\n",
      "        [4, 5, 6],\n",
      "        [7, 8, 9]])\n",
      "tensor([1, 2, 3])\n",
      "tensor([4, 5, 6])\n",
      "tensor([5, 8])\n"
     ]
    }
   ],
   "source": [
    "x = torch.tensor([[1, 2, 3], [4, 5, 6], [7, 8, 9]])\n",
    "print(x)\n",
    "print(x[0, :]) # 첫 번째 행 전체\n",
    "print(x[1, :]) # 두 번째 열 전체\n",
    "print(x[1:, 1]) # 첫 번째 행 이후 각 행의; 첫 번째 열 이후 각 열"
   ]
  },
  {
   "cell_type": "markdown",
   "metadata": {},
   "source": [
    "### 텐서 분리 (splitting)"
   ]
  },
  {
   "cell_type": "code",
   "execution_count": 42,
   "metadata": {},
   "outputs": [
    {
     "name": "stdout",
     "output_type": "stream",
     "text": [
      "tensor([[ 1,  2,  3],\n",
      "        [ 4,  5,  6],\n",
      "        [ 7,  8,  9],\n",
      "        [10, 11, 12]])\n",
      "tensor([[1, 2, 3],\n",
      "        [4, 5, 6]])\n",
      "tensor([[ 7,  8,  9],\n",
      "        [10, 11, 12]])\n"
     ]
    }
   ],
   "source": [
    "x = torch.tensor([[1, 2, 3], [4, 5, 6], [7, 8, 9], [10, 11, 12]])\n",
    "a, b = torch.split(x, 2, dim=0)\n",
    "print(x)\n",
    "print(a)\n",
    "print(b)"
   ]
  },
  {
   "cell_type": "markdown",
   "metadata": {},
   "source": [
    "### 텐서 전치"
   ]
  },
  {
   "cell_type": "code",
   "execution_count": 43,
   "metadata": {},
   "outputs": [
    {
     "name": "stdout",
     "output_type": "stream",
     "text": [
      "tensor([[1, 2],\n",
      "        [3, 4],\n",
      "        [5, 6]])\n",
      "tensor([[1, 3, 5],\n",
      "        [2, 4, 6]])\n"
     ]
    }
   ],
   "source": [
    "x = torch.tensor([[1, 2], [3, 4], [5, 6]])\n",
    "print(x)\n",
    "print(x.transpose(0, 1))"
   ]
  }
 ],
 "metadata": {
  "kernelspec": {
   "display_name": "base",
   "language": "python",
   "name": "python3"
  },
  "language_info": {
   "codemirror_mode": {
    "name": "ipython",
    "version": 3
   },
   "file_extension": ".py",
   "mimetype": "text/x-python",
   "name": "python",
   "nbconvert_exporter": "python",
   "pygments_lexer": "ipython3",
   "version": "3.11.11"
  }
 },
 "nbformat": 4,
 "nbformat_minor": 2
}
