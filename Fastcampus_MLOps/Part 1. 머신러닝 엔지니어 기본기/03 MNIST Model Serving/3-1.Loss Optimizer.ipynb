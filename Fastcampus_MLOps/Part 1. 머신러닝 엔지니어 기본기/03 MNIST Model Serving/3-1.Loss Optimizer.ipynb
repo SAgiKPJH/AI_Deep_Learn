{
 "cells": [
  {
   "cell_type": "markdown",
   "metadata": {},
   "source": [
    "# 3.1 모델 학습 전략 및 최적화"
   ]
  },
  {
   "cell_type": "code",
   "execution_count": 1,
   "metadata": {},
   "outputs": [],
   "source": [
    "import torch\n",
    "import torch.nn as nn"
   ]
  },
  {
   "cell_type": "code",
   "execution_count": 5,
   "metadata": {},
   "outputs": [],
   "source": [
    "loss_function = nn.CrossEntropyLoss()"
   ]
  },
  {
   "cell_type": "code",
   "execution_count": 9,
   "metadata": {},
   "outputs": [
    {
     "data": {
      "text/plain": [
       "2.009897232055664"
      ]
     },
     "execution_count": 9,
     "metadata": {},
     "output_type": "execute_result"
    }
   ],
   "source": [
    "loss = loss_function(torch.tensor([[\n",
    "    0.8982,\n",
    "    0.805,\n",
    "    0.6393,\n",
    "    0.9983,\n",
    "    0.5731,\n",
    "    0.0469,\n",
    "    0.556,\n",
    "    0.1476,\n",
    "    1.2484,\n",
    "    0.5544\n",
    "]]), torch.LongTensor([3]))\n",
    "loss.item()"
   ]
  },
  {
   "cell_type": "code",
   "execution_count": 10,
   "metadata": {},
   "outputs": [
    {
     "data": {
      "text/plain": [
       "1.5401395559310913"
      ]
     },
     "execution_count": 10,
     "metadata": {},
     "output_type": "execute_result"
    }
   ],
   "source": [
    "loss = loss_function(torch.tensor([[\n",
    "    3e-5,\n",
    "    5e-3,\n",
    "    1e-6,\n",
    "    0.9204,\n",
    "    2e-3,\n",
    "    3e-4,\n",
    "    5e-4,\n",
    "    5e-5,\n",
    "    0.176,\n",
    "    5e-4\n",
    "]]), torch.LongTensor([3]))\n",
    "loss.item()"
   ]
  },
  {
   "cell_type": "code",
   "execution_count": 15,
   "metadata": {},
   "outputs": [
    {
     "data": {
      "text/plain": [
       "0.39600569009780884"
      ]
     },
     "execution_count": 15,
     "metadata": {},
     "output_type": "execute_result"
    }
   ],
   "source": [
    "loss = loss_function(torch.tensor([[\n",
    "    3e-5,\n",
    "    5e-3,\n",
    "    1e-6,\n",
    "    2.9204,\n",
    "    2e-3,\n",
    "    3e-4,\n",
    "    5e-4,\n",
    "    5e-5,\n",
    "    4e-3,\n",
    "    5e-4\n",
    "]]), torch.LongTensor([3]))\n",
    "loss.item()"
   ]
  },
  {
   "cell_type": "markdown",
   "metadata": {},
   "source": []
  }
 ],
 "metadata": {
  "kernelspec": {
   "display_name": "base",
   "language": "python",
   "name": "python3"
  },
  "language_info": {
   "codemirror_mode": {
    "name": "ipython",
    "version": 3
   },
   "file_extension": ".py",
   "mimetype": "text/x-python",
   "name": "python",
   "nbconvert_exporter": "python",
   "pygments_lexer": "ipython3",
   "version": "3.11.11"
  }
 },
 "nbformat": 4,
 "nbformat_minor": 2
}
