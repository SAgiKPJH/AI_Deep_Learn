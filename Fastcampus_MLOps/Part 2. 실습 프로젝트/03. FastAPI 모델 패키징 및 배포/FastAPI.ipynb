{
 "cells": [
  {
   "cell_type": "markdown",
   "metadata": {},
   "source": [
    "# FastAPI\n",
    "- 파이썬 웹서버 프레임워크\n",
    "- Flask, Django도 존재하지만, FastAPI를 사용하는 이유\n",
    "  - async 처리 별도 설정 없이 바로 사용 가능\n",
    "- Swagger UI 제공합니다."
   ]
  },
  {
   "cell_type": "markdown",
   "metadata": {},
   "source": [
    "- git clone\n",
    "  ```bash\n",
    "  %git clone https://github.com/KennethanCeyer/fastcampus-mlops.git\n",
    "  ```\n",
    "- `05. Neural Collaborative Filtering.ipynb`에서 모델 파일 `model.pth`를 얻습니다.\n",
    "  - movie_recommendation_part1/app/src/model/artifacts/model.pth\n",
    "- `05. Neural Collaborative Filtering.ipynb`에서 모델 동작한 스크립트 위치\n",
    "  - /app/src/model/model.py\n",
    "  - router.py에서 \"/predict/\" 관련 host를 받으면 동작하는 내용 구성\n",
    "- 실행\n",
    "  ```bash\n",
    "  PYTHONPATH=$(pwd)/src python3 src/main.py\n",
    "  ```\n",
    "- Swagger 진입\n",
    "  - `0.0.0.0:8000/docs`\n",
    "  - Redoc : `0.0.0.0:8000/redoc`"
   ]
  },
  {
   "cell_type": "markdown",
   "metadata": {},
   "source": []
  }
 ],
 "metadata": {
  "kernelspec": {
   "display_name": "base",
   "language": "python",
   "name": "python3"
  },
  "language_info": {
   "codemirror_mode": {
    "name": "ipython",
    "version": 3
   },
   "file_extension": ".py",
   "mimetype": "text/x-python",
   "name": "python",
   "nbconvert_exporter": "python",
   "pygments_lexer": "ipython3",
   "version": "3.11.11"
  }
 },
 "nbformat": 4,
 "nbformat_minor": 2
}
